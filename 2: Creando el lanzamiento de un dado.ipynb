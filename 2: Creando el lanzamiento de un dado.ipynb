{
  "nbformat": 4,
  "nbformat_minor": 0,
  "metadata": {
    "colab": {
      "name": "RandomDado.ipynb",
      "provenance": [],
      "collapsed_sections": [
        "ICX47bpvdPtM"
      ]
    },
    "kernelspec": {
      "name": "python3",
      "display_name": "Python 3"
    },
    "language_info": {
      "name": "python"
    }
  },
  "cells": [
    {
      "cell_type": "markdown",
      "metadata": {
        "id": "ICX47bpvdPtM"
      },
      "source": [
        "# Lanzamiento de un Dado"
      ]
    },
    {
      "cell_type": "markdown",
      "metadata": {
        "id": "AvfavQdheq05"
      },
      "source": [
        "## Analisis del problema"
      ]
    },
    {
      "cell_type": "markdown",
      "metadata": {
        "id": "uxjKdiryc7Jv"
      },
      "source": [
        "### Crear un algoritmo que muestre la cara de un dado, en un bucle aleatorio de lanzamiento.\n",
        "\n",
        "### **Pasos**\n",
        "\n",
        "  - Entender el Problema\n",
        "  - Pensar\n",
        "  - Algoritmo\n",
        "  - Logica y estructura del codigo\n",
        "  - Modificaciones\n",
        "\n",
        "### *Algoritmo:*\n",
        "\n",
        "  - Desarrollo un numero aleatorio\n",
        "  - Revision del numero\n",
        "  - Imprimir la cara del dado\n",
        "  - Bucle del codigo.\n",
        "\n"
      ]
    },
    {
      "cell_type": "markdown",
      "metadata": {
        "id": "noD-L2vJe270"
      },
      "source": [
        "## Codigo"
      ]
    },
    {
      "cell_type": "code",
      "metadata": {
        "id": "3n545D2gcRBi"
      },
      "source": [
        "import random"
      ],
      "execution_count": 2,
      "outputs": []
    },
    {
      "cell_type": "code",
      "metadata": {
        "colab": {
          "base_uri": "https://localhost:8080/"
        },
        "id": "BGKApEw4hR2R",
        "outputId": "f7dc3e27-3c44-4693-ba40-1a9e03c1897e"
      },
      "source": [
        "x = random.random()\n",
        "\n",
        "print(x)"
      ],
      "execution_count": null,
      "outputs": [
        {
          "output_type": "stream",
          "text": [
            "0.5561668257973176\n"
          ],
          "name": "stdout"
        }
      ]
    },
    {
      "cell_type": "code",
      "metadata": {
        "colab": {
          "base_uri": "https://localhost:8080/"
        },
        "id": "qD3VkZGHg3LY",
        "outputId": "9fe29e49-e8b8-4681-8611-c4f6ff40bbf4"
      },
      "source": [
        "for x in range(0,6):\n",
        "  print(x)"
      ],
      "execution_count": 32,
      "outputs": [
        {
          "output_type": "stream",
          "name": "stdout",
          "text": [
            "0\n",
            "1\n",
            "2\n",
            "3\n",
            "4\n",
            "5\n"
          ]
        }
      ]
    },
    {
      "cell_type": "code",
      "metadata": {
        "id": "zVhyur6thZX6"
      },
      "source": [
        "x = random.randint(0, 6)"
      ],
      "execution_count": null,
      "outputs": []
    },
    {
      "cell_type": "code",
      "metadata": {
        "colab": {
          "base_uri": "https://localhost:8080/"
        },
        "id": "_8WWmSxNhtDB",
        "outputId": "d41fb2e4-2ef4-46c7-a60e-7c8f5af837cf"
      },
      "source": [
        "print(x)"
      ],
      "execution_count": null,
      "outputs": [
        {
          "output_type": "stream",
          "text": [
            "2\n"
          ],
          "name": "stdout"
        }
      ]
    },
    {
      "cell_type": "code",
      "metadata": {
        "id": "VXauRNo0hw1z",
        "colab": {
          "base_uri": "https://localhost:8080/"
        },
        "outputId": "49b8d7c3-a3d6-4311-e14d-039f2f0032e0"
      },
      "source": [
        "dado = random.randint(0, 6)\n",
        "\n",
        "  \n",
        "if dado == 0:\n",
        "  print(' ---')\n",
        "  print('| • |')\n",
        "  print(' ---')\n",
        "\n",
        "if dado == 1:\n",
        "  print(' ---')\n",
        "  print('|• •|')\n",
        "  print(' ---')\n",
        "\n",
        "if dado == 2:\n",
        "  print(' -----')\n",
        "  print('|•    |')\n",
        "  print('|  •  |')\n",
        "  print('|    •|')\n",
        "  print(' -----')\n",
        "\n",
        "if dado == 3:\n",
        "  print(' -----')\n",
        "  print('|•   •|')\n",
        "  print('|     |')\n",
        "  print('|•   •|')\n",
        "  print(' -----')\n",
        "\n",
        "if dado == 4:\n",
        "  print(' -----')\n",
        "  print('|•   •|')\n",
        "  print('|  •  |')\n",
        "  print('|•   •|')\n",
        "  print(' -----')\n",
        "\n",
        "if dado == 5:\n",
        "  print(' -----')\n",
        "  print('|•   •|')\n",
        "  print('|•   •|')\n",
        "  print('|•   •|')\n",
        "  print(' -----')"
      ],
      "execution_count": 30,
      "outputs": [
        {
          "output_type": "stream",
          "name": "stdout",
          "text": [
            " -----\n",
            "|•   •|\n",
            "|     |\n",
            "|•   •|\n",
            " -----\n"
          ]
        }
      ]
    },
    {
      "cell_type": "code",
      "metadata": {
        "colab": {
          "base_uri": "https://localhost:8080/"
        },
        "id": "KuP7vttrckdL",
        "outputId": "13351e3a-37ea-4c59-82cc-7a0479cdd820"
      },
      "source": [
        "x = 'y'\n",
        "\n",
        "while x == 'y':\n",
        "\n",
        "  dado = random.randint(0, 6)\n",
        "\n",
        "  if dado == 0:\n",
        "    print(' -----')\n",
        "    print('|     |')\n",
        "    print('|  •  |')\n",
        "    print('|     |')\n",
        "    print(' -----')\n",
        "\n",
        "  if dado == 1:\n",
        "    print(' -----')\n",
        "    print('|•    |')\n",
        "    print('|     |')\n",
        "    print('|    •|')\n",
        "    print(' -----')\n",
        "\n",
        "  if dado == 2:\n",
        "    print(' -----')\n",
        "    print('|•    |')\n",
        "    print('|  •  |')\n",
        "    print('|    •|')\n",
        "    print(' -----')\n",
        "\n",
        "  if dado == 3:\n",
        "    print(' -----')\n",
        "    print('|•   •|')\n",
        "    print('|     |')\n",
        "    print('|•   •|')\n",
        "    print(' -----')\n",
        "\n",
        "  if dado == 4:\n",
        "    print(' -----')\n",
        "    print('|•   •|')\n",
        "    print('|  •  |')\n",
        "    print('|•   •|')\n",
        "    print(' -----')\n",
        "\n",
        "  if dado == 5:\n",
        "    print(' -----')\n",
        "    print('|•   •|')\n",
        "    print('|•   •|')\n",
        "    print('|•   •|')\n",
        "    print(' -----')\n",
        "\n",
        "  x = input('yes or not: ')\n"
      ],
      "execution_count": 41,
      "outputs": [
        {
          "name": "stdout",
          "output_type": "stream",
          "text": [
            " -----\n",
            "|•    |\n",
            "|  •  |\n",
            "|    •|\n",
            " -----\n",
            "yes or not: n\n"
          ]
        }
      ]
    },
    {
      "cell_type": "code",
      "metadata": {
        "id": "SxF2qZ2uhXB1"
      },
      "source": [
        ""
      ],
      "execution_count": null,
      "outputs": []
    }
  ]
}
