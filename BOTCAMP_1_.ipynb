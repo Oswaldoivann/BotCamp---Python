{
  "nbformat": 4,
  "nbformat_minor": 0,
  "metadata": {
    "colab": {
      "name": "BOTCAMP 1 .ipynb",
      "provenance": [],
      "collapsed_sections": [
        "ym71jC2aITPL",
        "Itg0S9zjCLAY",
        "ogRCrCmOCgXy",
        "xgvKAyIeDakg",
        "0XoCirCnDaH2",
        "Ygx_54xiIYmy",
        "grudcJtTIeJt",
        "wpsZvn-ECkTO",
        "tVV3qPAFEWad",
        "hOuQJRWcEfiT",
        "Btf3T1_xccrB",
        "t0swc1krcxOw",
        "jO-EaJnxhjSI",
        "qBUg6sMtiAEe",
        "E_td3Tjl34NN",
        "55f8oPgayBkR",
        "u9UH5pGnBk1x",
        "K1ZqFLB8ONBZ",
        "zSpzilvyRpkD",
        "3lzzX-nMSjAv",
        "bQzs9IkAKuIb"
      ]
    },
    "kernelspec": {
      "name": "python3",
      "display_name": "Python 3"
    },
    "language_info": {
      "name": "python"
    }
  },
  "cells": [
    {
      "cell_type": "markdown",
      "metadata": {
        "id": "ym71jC2aITPL"
      },
      "source": [
        "# Tipos de Datos"
      ]
    },
    {
      "cell_type": "markdown",
      "metadata": {
        "id": "bHfMR1MmCDp3"
      },
      "source": [
        "## Formato de Cadenas"
      ]
    },
    {
      "cell_type": "code",
      "metadata": {
        "colab": {
          "base_uri": "https://localhost:8080/"
        },
        "id": "W2eMQdlM6-uf",
        "outputId": "9f117a69-86a6-42ef-cad3-0d1ed1bb7825"
      },
      "source": [
        "int(x)"
      ],
      "execution_count": null,
      "outputs": [
        {
          "output_type": "execute_result",
          "data": {
            "text/plain": [
              "2"
            ]
          },
          "metadata": {
            "tags": []
          },
          "execution_count": 19
        }
      ]
    },
    {
      "cell_type": "code",
      "metadata": {
        "id": "Xbx7pUqf7ZZ6"
      },
      "source": [
        "dir('string');"
      ],
      "execution_count": null,
      "outputs": []
    },
    {
      "cell_type": "code",
      "metadata": {
        "id": "T9P1YQg18IRd"
      },
      "source": [
        "x = 'Oswaldo'\n",
        "w = 'programming'"
      ],
      "execution_count": null,
      "outputs": []
    },
    {
      "cell_type": "code",
      "metadata": {
        "colab": {
          "base_uri": "https://localhost:8080/",
          "height": 35
        },
        "id": "vTf8N8fz8XoO",
        "outputId": "e378ded0-7ee7-4672-a0cb-7722cdecfd85"
      },
      "source": [
        "x[0:2]"
      ],
      "execution_count": null,
      "outputs": [
        {
          "output_type": "execute_result",
          "data": {
            "application/vnd.google.colaboratory.intrinsic+json": {
              "type": "string"
            },
            "text/plain": [
              "'Os'"
            ]
          },
          "metadata": {
            "tags": []
          },
          "execution_count": 17
        }
      ]
    },
    {
      "cell_type": "code",
      "metadata": {
        "id": "FQ6AembZ87PB"
      },
      "source": [
        "z = 'my name is {} and i have {} year old'.format(x, y)"
      ],
      "execution_count": null,
      "outputs": []
    },
    {
      "cell_type": "code",
      "metadata": {
        "colab": {
          "base_uri": "https://localhost:8080/",
          "height": 35
        },
        "id": "QttNKqgF9rmU",
        "outputId": "1ff0e0d3-dffa-4b86-eae2-8809e9faf20d"
      },
      "source": [
        "z"
      ],
      "execution_count": null,
      "outputs": [
        {
          "output_type": "execute_result",
          "data": {
            "application/vnd.google.colaboratory.intrinsic+json": {
              "type": "string"
            },
            "text/plain": [
              "'my name is Oswaldo and i have 25 year old'"
            ]
          },
          "metadata": {
            "tags": []
          },
          "execution_count": 28
        }
      ]
    },
    {
      "cell_type": "code",
      "metadata": {
        "id": "lEFFEy2Q--v1"
      },
      "source": [
        "z = 'my name is {0} and i have {1} year old'.format(x, y)"
      ],
      "execution_count": null,
      "outputs": []
    },
    {
      "cell_type": "code",
      "metadata": {
        "id": "nM-1tOEc_ieV"
      },
      "source": [
        "a = f'my name is {x}'"
      ],
      "execution_count": null,
      "outputs": []
    },
    {
      "cell_type": "code",
      "metadata": {
        "colab": {
          "base_uri": "https://localhost:8080/",
          "height": 35
        },
        "id": "ufIxCUDO_2St",
        "outputId": "6d263b5e-3293-4032-f298-c70cb9f2be19"
      },
      "source": [
        "a"
      ],
      "execution_count": null,
      "outputs": [
        {
          "output_type": "execute_result",
          "data": {
            "application/vnd.google.colaboratory.intrinsic+json": {
              "type": "string"
            },
            "text/plain": [
              "'my name is Oswaldo'"
            ]
          },
          "metadata": {
            "tags": []
          },
          "execution_count": 33
        }
      ]
    },
    {
      "cell_type": "code",
      "metadata": {
        "id": "Y3H7Nr4mAxaG"
      },
      "source": [
        "w = ['oswaldo', 'programming']"
      ],
      "execution_count": null,
      "outputs": []
    },
    {
      "cell_type": "code",
      "metadata": {
        "id": "2gVK129s_2tl"
      },
      "source": [
        "b = f'myname is {w[0]} and my hobby is {w[1]}'"
      ],
      "execution_count": null,
      "outputs": []
    },
    {
      "cell_type": "code",
      "metadata": {
        "colab": {
          "base_uri": "https://localhost:8080/",
          "height": 35
        },
        "id": "cr_0gb7_A6kv",
        "outputId": "8f483a99-d51c-46bc-ecee-c7866a9ea0e1"
      },
      "source": [
        "b"
      ],
      "execution_count": null,
      "outputs": [
        {
          "output_type": "execute_result",
          "data": {
            "application/vnd.google.colaboratory.intrinsic+json": {
              "type": "string"
            },
            "text/plain": [
              "'myname is oswaldo and my hobby is programming'"
            ]
          },
          "metadata": {
            "tags": []
          },
          "execution_count": 39
        }
      ]
    },
    {
      "cell_type": "markdown",
      "metadata": {
        "id": "Itg0S9zjCLAY"
      },
      "source": [
        "## Listas  \n",
        "x = [ ]"
      ]
    },
    {
      "cell_type": "code",
      "metadata": {
        "colab": {
          "base_uri": "https://localhost:8080/"
        },
        "id": "40-Ao-zDA7rg",
        "outputId": "f32aaf7e-63c1-49bc-ca8d-15b61947b848"
      },
      "source": [
        "dir(list)"
      ],
      "execution_count": null,
      "outputs": [
        {
          "output_type": "execute_result",
          "data": {
            "text/plain": [
              "['__add__',\n",
              " '__class__',\n",
              " '__contains__',\n",
              " '__delattr__',\n",
              " '__delitem__',\n",
              " '__dir__',\n",
              " '__doc__',\n",
              " '__eq__',\n",
              " '__format__',\n",
              " '__ge__',\n",
              " '__getattribute__',\n",
              " '__getitem__',\n",
              " '__gt__',\n",
              " '__hash__',\n",
              " '__iadd__',\n",
              " '__imul__',\n",
              " '__init__',\n",
              " '__init_subclass__',\n",
              " '__iter__',\n",
              " '__le__',\n",
              " '__len__',\n",
              " '__lt__',\n",
              " '__mul__',\n",
              " '__ne__',\n",
              " '__new__',\n",
              " '__reduce__',\n",
              " '__reduce_ex__',\n",
              " '__repr__',\n",
              " '__reversed__',\n",
              " '__rmul__',\n",
              " '__setattr__',\n",
              " '__setitem__',\n",
              " '__sizeof__',\n",
              " '__str__',\n",
              " '__subclasshook__',\n",
              " 'append',\n",
              " 'clear',\n",
              " 'copy',\n",
              " 'count',\n",
              " 'extend',\n",
              " 'index',\n",
              " 'insert',\n",
              " 'pop',\n",
              " 'remove',\n",
              " 'reverse',\n",
              " 'sort']"
            ]
          },
          "metadata": {
            "tags": []
          },
          "execution_count": 40
        }
      ]
    },
    {
      "cell_type": "code",
      "metadata": {
        "id": "Es607-M1COuM"
      },
      "source": [
        "x = ['string', 5, 2.5, False]"
      ],
      "execution_count": null,
      "outputs": []
    },
    {
      "cell_type": "code",
      "metadata": {
        "colab": {
          "base_uri": "https://localhost:8080/"
        },
        "id": "OSgeMKyDCWbz",
        "outputId": "c25280ec-aca6-4f0f-924a-d57faaab1fa3"
      },
      "source": [
        "x.pop()"
      ],
      "execution_count": null,
      "outputs": [
        {
          "output_type": "execute_result",
          "data": {
            "text/plain": [
              "False"
            ]
          },
          "metadata": {
            "tags": []
          },
          "execution_count": 44
        }
      ]
    },
    {
      "cell_type": "code",
      "metadata": {
        "colab": {
          "base_uri": "https://localhost:8080/"
        },
        "id": "nKjSkxOxCY3m",
        "outputId": "b9779ab2-cebc-4093-b7ba-888484f1d2dd"
      },
      "source": [
        "x"
      ],
      "execution_count": null,
      "outputs": [
        {
          "output_type": "execute_result",
          "data": {
            "text/plain": [
              "['string', 5, 2.5]"
            ]
          },
          "metadata": {
            "tags": []
          },
          "execution_count": 45
        }
      ]
    },
    {
      "cell_type": "code",
      "metadata": {
        "id": "Xp5lkIDSCZ87"
      },
      "source": [
        "x.append(9)"
      ],
      "execution_count": null,
      "outputs": []
    },
    {
      "cell_type": "code",
      "metadata": {
        "colab": {
          "base_uri": "https://localhost:8080/"
        },
        "id": "bwxRtEJxCeie",
        "outputId": "938fcac8-e981-4d24-955b-67a44005ea84"
      },
      "source": [
        "x"
      ],
      "execution_count": null,
      "outputs": [
        {
          "output_type": "execute_result",
          "data": {
            "text/plain": [
              "['string', 5, 2.5, 9]"
            ]
          },
          "metadata": {
            "tags": []
          },
          "execution_count": 47
        }
      ]
    },
    {
      "cell_type": "markdown",
      "metadata": {
        "id": "ogRCrCmOCgXy"
      },
      "source": [
        "## Tuplas\n",
        "x = ()"
      ]
    },
    {
      "cell_type": "code",
      "metadata": {
        "id": "mz0y8XdUCfFY"
      },
      "source": [
        "x = ('string', 5, 2.5)"
      ],
      "execution_count": null,
      "outputs": []
    },
    {
      "cell_type": "code",
      "metadata": {
        "colab": {
          "base_uri": "https://localhost:8080/"
        },
        "id": "n1FrmfAYDOId",
        "outputId": "98081af8-83b7-4ad4-e2d9-34a78135b67b"
      },
      "source": [
        "x[1]"
      ],
      "execution_count": null,
      "outputs": [
        {
          "output_type": "execute_result",
          "data": {
            "text/plain": [
              "5"
            ]
          },
          "metadata": {
            "tags": []
          },
          "execution_count": 49
        }
      ]
    },
    {
      "cell_type": "code",
      "metadata": {
        "colab": {
          "base_uri": "https://localhost:8080/"
        },
        "id": "K6mJ5vl_DP84",
        "outputId": "f49f167b-fe09-4f6c-f5b7-9807e1f15e61"
      },
      "source": [
        "dir(tuple)"
      ],
      "execution_count": null,
      "outputs": [
        {
          "output_type": "execute_result",
          "data": {
            "text/plain": [
              "['__add__',\n",
              " '__class__',\n",
              " '__contains__',\n",
              " '__delattr__',\n",
              " '__dir__',\n",
              " '__doc__',\n",
              " '__eq__',\n",
              " '__format__',\n",
              " '__ge__',\n",
              " '__getattribute__',\n",
              " '__getitem__',\n",
              " '__getnewargs__',\n",
              " '__gt__',\n",
              " '__hash__',\n",
              " '__init__',\n",
              " '__init_subclass__',\n",
              " '__iter__',\n",
              " '__le__',\n",
              " '__len__',\n",
              " '__lt__',\n",
              " '__mul__',\n",
              " '__ne__',\n",
              " '__new__',\n",
              " '__reduce__',\n",
              " '__reduce_ex__',\n",
              " '__repr__',\n",
              " '__rmul__',\n",
              " '__setattr__',\n",
              " '__sizeof__',\n",
              " '__str__',\n",
              " '__subclasshook__',\n",
              " 'count',\n",
              " 'index']"
            ]
          },
          "metadata": {
            "tags": []
          },
          "execution_count": 50
        }
      ]
    },
    {
      "cell_type": "code",
      "metadata": {
        "colab": {
          "base_uri": "https://localhost:8080/"
        },
        "id": "qzUqpaO9DRzI",
        "outputId": "6075a942-e771-4912-844f-7e7ccdb7db75"
      },
      "source": [
        "x.count"
      ],
      "execution_count": null,
      "outputs": [
        {
          "output_type": "execute_result",
          "data": {
            "text/plain": [
              "<function tuple.count>"
            ]
          },
          "metadata": {
            "tags": []
          },
          "execution_count": 52
        }
      ]
    },
    {
      "cell_type": "markdown",
      "metadata": {
        "id": "xgvKAyIeDakg"
      },
      "source": [
        "## Diccionarios\n",
        "\n",
        "x = {}"
      ]
    },
    {
      "cell_type": "code",
      "metadata": {
        "id": "2srTlIbrDUL-"
      },
      "source": [
        "x = {'int' : 1,\n",
        "     'string' : 'Oswaldo',\n",
        "     'edad': 25,\n",
        "     'hobby' : 'programming'}"
      ],
      "execution_count": null,
      "outputs": []
    },
    {
      "cell_type": "code",
      "metadata": {
        "colab": {
          "base_uri": "https://localhost:8080/"
        },
        "id": "DAB-hze7EA-f",
        "outputId": "de861ad8-5fb5-4e42-8c50-9e4c7ed1ee39"
      },
      "source": [
        "x['int']"
      ],
      "execution_count": null,
      "outputs": [
        {
          "output_type": "execute_result",
          "data": {
            "text/plain": [
              "1"
            ]
          },
          "metadata": {
            "tags": []
          },
          "execution_count": 54
        }
      ]
    },
    {
      "cell_type": "code",
      "metadata": {
        "id": "dfe6uUv_Ey9n"
      },
      "source": [
        "x['string'] = 'Ivann'"
      ],
      "execution_count": null,
      "outputs": []
    },
    {
      "cell_type": "code",
      "metadata": {
        "colab": {
          "base_uri": "https://localhost:8080/"
        },
        "id": "6lxUVAcvE8au",
        "outputId": "1057050c-042c-47b5-c40f-d86140e016b3"
      },
      "source": [
        "x"
      ],
      "execution_count": null,
      "outputs": [
        {
          "output_type": "execute_result",
          "data": {
            "text/plain": [
              "{'edad': 25, 'hobby': 'programming', 'int': 1, 'string': 'Ivann', 'year': 2021}"
            ]
          },
          "metadata": {
            "tags": []
          },
          "execution_count": 60
        }
      ]
    },
    {
      "cell_type": "code",
      "metadata": {
        "colab": {
          "base_uri": "https://localhost:8080/"
        },
        "id": "VM1rt4hPFB05",
        "outputId": "82f43859-92ae-4fdd-8148-b6f6cf42c660"
      },
      "source": [
        "len(x)"
      ],
      "execution_count": null,
      "outputs": [
        {
          "output_type": "execute_result",
          "data": {
            "text/plain": [
              "4"
            ]
          },
          "metadata": {
            "tags": []
          },
          "execution_count": 58
        }
      ]
    },
    {
      "cell_type": "code",
      "metadata": {
        "id": "yNzYvtMWFG0G"
      },
      "source": [
        "x['year'] = 2021"
      ],
      "execution_count": null,
      "outputs": []
    },
    {
      "cell_type": "code",
      "metadata": {
        "colab": {
          "base_uri": "https://localhost:8080/"
        },
        "id": "n_PupHh9FPRI",
        "outputId": "92712806-091c-4c1a-b0d4-87abf14d056a"
      },
      "source": [
        "dir('diccionary')"
      ],
      "execution_count": null,
      "outputs": [
        {
          "output_type": "execute_result",
          "data": {
            "text/plain": [
              "['__add__',\n",
              " '__class__',\n",
              " '__contains__',\n",
              " '__delattr__',\n",
              " '__dir__',\n",
              " '__doc__',\n",
              " '__eq__',\n",
              " '__format__',\n",
              " '__ge__',\n",
              " '__getattribute__',\n",
              " '__getitem__',\n",
              " '__getnewargs__',\n",
              " '__gt__',\n",
              " '__hash__',\n",
              " '__init__',\n",
              " '__init_subclass__',\n",
              " '__iter__',\n",
              " '__le__',\n",
              " '__len__',\n",
              " '__lt__',\n",
              " '__mod__',\n",
              " '__mul__',\n",
              " '__ne__',\n",
              " '__new__',\n",
              " '__reduce__',\n",
              " '__reduce_ex__',\n",
              " '__repr__',\n",
              " '__rmod__',\n",
              " '__rmul__',\n",
              " '__setattr__',\n",
              " '__sizeof__',\n",
              " '__str__',\n",
              " '__subclasshook__',\n",
              " 'capitalize',\n",
              " 'casefold',\n",
              " 'center',\n",
              " 'count',\n",
              " 'encode',\n",
              " 'endswith',\n",
              " 'expandtabs',\n",
              " 'find',\n",
              " 'format',\n",
              " 'format_map',\n",
              " 'index',\n",
              " 'isalnum',\n",
              " 'isalpha',\n",
              " 'isascii',\n",
              " 'isdecimal',\n",
              " 'isdigit',\n",
              " 'isidentifier',\n",
              " 'islower',\n",
              " 'isnumeric',\n",
              " 'isprintable',\n",
              " 'isspace',\n",
              " 'istitle',\n",
              " 'isupper',\n",
              " 'join',\n",
              " 'ljust',\n",
              " 'lower',\n",
              " 'lstrip',\n",
              " 'maketrans',\n",
              " 'partition',\n",
              " 'replace',\n",
              " 'rfind',\n",
              " 'rindex',\n",
              " 'rjust',\n",
              " 'rpartition',\n",
              " 'rsplit',\n",
              " 'rstrip',\n",
              " 'split',\n",
              " 'splitlines',\n",
              " 'startswith',\n",
              " 'strip',\n",
              " 'swapcase',\n",
              " 'title',\n",
              " 'translate',\n",
              " 'upper',\n",
              " 'zfill']"
            ]
          },
          "metadata": {
            "tags": []
          },
          "execution_count": 62
        }
      ]
    },
    {
      "cell_type": "markdown",
      "metadata": {
        "id": "0XoCirCnDaH2"
      },
      "source": [
        "## Boolean"
      ]
    },
    {
      "cell_type": "code",
      "metadata": {
        "colab": {
          "base_uri": "https://localhost:8080/"
        },
        "id": "lumlhy7eG8zI",
        "outputId": "6cd8adaf-06e2-4a7b-a6fb-96841ce75794"
      },
      "source": [
        "4 < 5"
      ],
      "execution_count": null,
      "outputs": [
        {
          "output_type": "execute_result",
          "data": {
            "text/plain": [
              "True"
            ]
          },
          "metadata": {
            "tags": []
          },
          "execution_count": 63
        }
      ]
    },
    {
      "cell_type": "code",
      "metadata": {
        "colab": {
          "base_uri": "https://localhost:8080/"
        },
        "id": "gjJP3oqVG-C8",
        "outputId": "a009ec53-0cef-4a21-d26f-2049f37c5660"
      },
      "source": [
        "5 < 4"
      ],
      "execution_count": null,
      "outputs": [
        {
          "output_type": "execute_result",
          "data": {
            "text/plain": [
              "False"
            ]
          },
          "metadata": {
            "tags": []
          },
          "execution_count": 65
        }
      ]
    },
    {
      "cell_type": "markdown",
      "metadata": {
        "id": "Ygx_54xiIYmy"
      },
      "source": [
        "# Operadores"
      ]
    },
    {
      "cell_type": "markdown",
      "metadata": {
        "id": "grudcJtTIeJt"
      },
      "source": [
        "## Operadores numericos"
      ]
    },
    {
      "cell_type": "code",
      "metadata": {
        "id": "pDG8ZcqNIdvJ",
        "colab": {
          "base_uri": "https://localhost:8080/"
        },
        "outputId": "a954fdf5-cb7b-46c3-f2da-660b8e0fd24e"
      },
      "source": [
        " 9 - 1"
      ],
      "execution_count": null,
      "outputs": [
        {
          "output_type": "execute_result",
          "data": {
            "text/plain": [
              "8"
            ]
          },
          "metadata": {
            "tags": []
          },
          "execution_count": 1
        }
      ]
    },
    {
      "cell_type": "code",
      "metadata": {
        "id": "hyaVL3cvG_25",
        "colab": {
          "base_uri": "https://localhost:8080/",
          "height": 35
        },
        "outputId": "737f7ac7-ef92-41e7-ff9f-7790b601525c"
      },
      "source": [
        "'He' + 'y'"
      ],
      "execution_count": null,
      "outputs": [
        {
          "output_type": "execute_result",
          "data": {
            "application/vnd.google.colaboratory.intrinsic+json": {
              "type": "string"
            },
            "text/plain": [
              "'Hey'"
            ]
          },
          "metadata": {
            "tags": []
          },
          "execution_count": 5
        }
      ]
    },
    {
      "cell_type": "code",
      "metadata": {
        "id": "Q0u84keVIX1I",
        "colab": {
          "base_uri": "https://localhost:8080/"
        },
        "outputId": "01599252-ac6f-41f1-c230-bffbfbd52e4f"
      },
      "source": [
        "if 5 > 2:\n",
        "  print('hey')"
      ],
      "execution_count": null,
      "outputs": [
        {
          "output_type": "stream",
          "text": [
            "hey\n"
          ],
          "name": "stdout"
        }
      ]
    },
    {
      "cell_type": "code",
      "metadata": {
        "colab": {
          "base_uri": "https://localhost:8080/"
        },
        "id": "TTEeV5mhBh6v",
        "outputId": "0298e242-3036-4ce4-d8fc-4ea294d13a7a"
      },
      "source": [
        "8 // 2"
      ],
      "execution_count": null,
      "outputs": [
        {
          "output_type": "execute_result",
          "data": {
            "text/plain": [
              "4"
            ]
          },
          "metadata": {
            "tags": []
          },
          "execution_count": 6
        }
      ]
    },
    {
      "cell_type": "code",
      "metadata": {
        "colab": {
          "base_uri": "https://localhost:8080/"
        },
        "id": "_TDZfuZXB3D4",
        "outputId": "22299401-0576-4c69-f164-e1acdf7c1588"
      },
      "source": [
        "8 / 2"
      ],
      "execution_count": null,
      "outputs": [
        {
          "output_type": "execute_result",
          "data": {
            "text/plain": [
              "4.0"
            ]
          },
          "metadata": {
            "tags": []
          },
          "execution_count": 7
        }
      ]
    },
    {
      "cell_type": "code",
      "metadata": {
        "colab": {
          "base_uri": "https://localhost:8080/"
        },
        "id": "SiyBnt33B3Aa",
        "outputId": "bd938d14-032b-42f1-cf1c-44443420d954"
      },
      "source": [
        "12 % 5000"
      ],
      "execution_count": null,
      "outputs": [
        {
          "output_type": "execute_result",
          "data": {
            "text/plain": [
              "12"
            ]
          },
          "metadata": {
            "tags": []
          },
          "execution_count": 8
        }
      ]
    },
    {
      "cell_type": "markdown",
      "metadata": {
        "id": "wpsZvn-ECkTO"
      },
      "source": [
        "## Operadores de Asignación"
      ]
    },
    {
      "cell_type": "code",
      "metadata": {
        "id": "A7nQeOjzB295"
      },
      "source": [
        " =\n",
        " +=\n",
        " -= \n",
        " *=\n",
        " /=\n",
        " %=\n",
        " **=\n",
        " //=="
      ],
      "execution_count": null,
      "outputs": []
    },
    {
      "cell_type": "code",
      "metadata": {
        "id": "djZS99qFB27w"
      },
      "source": [
        "x = 3"
      ],
      "execution_count": null,
      "outputs": []
    },
    {
      "cell_type": "code",
      "metadata": {
        "id": "NHGonSDuB24_"
      },
      "source": [
        "x += 1"
      ],
      "execution_count": null,
      "outputs": []
    },
    {
      "cell_type": "code",
      "metadata": {
        "colab": {
          "base_uri": "https://localhost:8080/"
        },
        "id": "rdbH3Y5QB22n",
        "outputId": "14867c92-6f19-4dd1-80f9-0547c827b4d6"
      },
      "source": [
        "x"
      ],
      "execution_count": null,
      "outputs": [
        {
          "output_type": "execute_result",
          "data": {
            "text/plain": [
              "4"
            ]
          },
          "metadata": {
            "tags": []
          },
          "execution_count": 12
        }
      ]
    },
    {
      "cell_type": "code",
      "metadata": {
        "id": "IdCyu0N_B2zx"
      },
      "source": [
        "x+= 8"
      ],
      "execution_count": null,
      "outputs": []
    },
    {
      "cell_type": "code",
      "metadata": {
        "id": "zOa5hLQMB2w3"
      },
      "source": [
        "x -= 9"
      ],
      "execution_count": null,
      "outputs": []
    },
    {
      "cell_type": "code",
      "metadata": {
        "colab": {
          "base_uri": "https://localhost:8080/"
        },
        "id": "vFcoeLDMB2L0",
        "outputId": "f0ce22d5-e41c-4f8d-f38a-cae7086fccbc"
      },
      "source": [
        "x"
      ],
      "execution_count": null,
      "outputs": [
        {
          "output_type": "execute_result",
          "data": {
            "text/plain": [
              "3"
            ]
          },
          "metadata": {
            "tags": []
          },
          "execution_count": 15
        }
      ]
    },
    {
      "cell_type": "markdown",
      "metadata": {
        "id": "tVV3qPAFEWad"
      },
      "source": [
        "## Operadores de comparación"
      ]
    },
    {
      "cell_type": "code",
      "metadata": {
        "id": "K3Olhq41Eb4V"
      },
      "source": [
        " ==\n",
        " !=\n",
        " > \n",
        " >=\n",
        " <\n",
        " <=\n",
        " "
      ],
      "execution_count": null,
      "outputs": []
    },
    {
      "cell_type": "code",
      "metadata": {
        "colab": {
          "base_uri": "https://localhost:8080/"
        },
        "id": "EDUm_rYhEfNm",
        "outputId": "5c5b5fd3-6ff0-4c23-a430-660d10fb2ea7"
      },
      "source": [
        "#igualacion\n",
        "x = 3\n",
        "y = 3\n",
        "z = 5\n",
        "x == y"
      ],
      "execution_count": null,
      "outputs": [
        {
          "output_type": "execute_result",
          "data": {
            "text/plain": [
              "True"
            ]
          },
          "metadata": {
            "tags": []
          },
          "execution_count": 16
        }
      ]
    },
    {
      "cell_type": "code",
      "metadata": {
        "colab": {
          "base_uri": "https://localhost:8080/"
        },
        "id": "stZglHMVEfKW",
        "outputId": "2c41022e-960c-48e2-dab0-7d25a42ca1aa"
      },
      "source": [
        "z == y"
      ],
      "execution_count": null,
      "outputs": [
        {
          "output_type": "execute_result",
          "data": {
            "text/plain": [
              "False"
            ]
          },
          "metadata": {
            "tags": []
          },
          "execution_count": 17
        }
      ]
    },
    {
      "cell_type": "code",
      "metadata": {
        "colab": {
          "base_uri": "https://localhost:8080/"
        },
        "id": "BILf4qoiEe4S",
        "outputId": "acb1727b-fffa-49d8-8053-8b3ad92c1253"
      },
      "source": [
        "#diferente \n",
        "z != y"
      ],
      "execution_count": null,
      "outputs": [
        {
          "output_type": "execute_result",
          "data": {
            "text/plain": [
              "True"
            ]
          },
          "metadata": {
            "tags": []
          },
          "execution_count": 18
        }
      ]
    },
    {
      "cell_type": "code",
      "metadata": {
        "colab": {
          "base_uri": "https://localhost:8080/"
        },
        "id": "qX0BrLJ0Z3ou",
        "outputId": "f27c40db-84c0-44b5-bbfc-322606515885"
      },
      "source": [
        "x != y"
      ],
      "execution_count": null,
      "outputs": [
        {
          "output_type": "execute_result",
          "data": {
            "text/plain": [
              "False"
            ]
          },
          "metadata": {
            "tags": []
          },
          "execution_count": 19
        }
      ]
    },
    {
      "cell_type": "code",
      "metadata": {
        "colab": {
          "base_uri": "https://localhost:8080/"
        },
        "id": "okbxfYENZ8Cv",
        "outputId": "61907d72-70d3-41cc-8b8a-f1255365337c"
      },
      "source": [
        "x < y"
      ],
      "execution_count": null,
      "outputs": [
        {
          "output_type": "execute_result",
          "data": {
            "text/plain": [
              "False"
            ]
          },
          "metadata": {
            "tags": []
          },
          "execution_count": 20
        }
      ]
    },
    {
      "cell_type": "code",
      "metadata": {
        "colab": {
          "base_uri": "https://localhost:8080/"
        },
        "id": "O2oIeIhzZ704",
        "outputId": "47f4b4d6-fa69-4295-f0a7-5c8b0c36614f"
      },
      "source": [
        "x <= y"
      ],
      "execution_count": null,
      "outputs": [
        {
          "output_type": "execute_result",
          "data": {
            "text/plain": [
              "True"
            ]
          },
          "metadata": {
            "tags": []
          },
          "execution_count": 21
        }
      ]
    },
    {
      "cell_type": "markdown",
      "metadata": {
        "id": "hOuQJRWcEfiT"
      },
      "source": [
        "## Operadores logicos\n",
        "\n"
      ]
    },
    {
      "cell_type": "code",
      "metadata": {
        "id": "LX2H2tDMaTga"
      },
      "source": [
        "and\n",
        "or\n",
        "not"
      ],
      "execution_count": null,
      "outputs": []
    },
    {
      "cell_type": "code",
      "metadata": {
        "colab": {
          "base_uri": "https://localhost:8080/"
        },
        "id": "1sXt6zihaa7Q",
        "outputId": "ac69d358-1f53-45e3-b8d6-b441f5bd9f94"
      },
      "source": [
        "#se cumplen las condiciones\n",
        " 3 > 2 and 4 > 2"
      ],
      "execution_count": null,
      "outputs": [
        {
          "output_type": "execute_result",
          "data": {
            "text/plain": [
              "True"
            ]
          },
          "metadata": {
            "tags": []
          },
          "execution_count": 22
        }
      ]
    },
    {
      "cell_type": "code",
      "metadata": {
        "colab": {
          "base_uri": "https://localhost:8080/"
        },
        "id": "4vYZ7yGnaaz8",
        "outputId": "8d06347b-6924-483a-eab2-dbfadbe4efc6"
      },
      "source": [
        "3 > 2 and 2 > 4"
      ],
      "execution_count": null,
      "outputs": [
        {
          "output_type": "execute_result",
          "data": {
            "text/plain": [
              "False"
            ]
          },
          "metadata": {
            "tags": []
          },
          "execution_count": 23
        }
      ]
    },
    {
      "cell_type": "code",
      "metadata": {
        "colab": {
          "base_uri": "https://localhost:8080/"
        },
        "id": "mDzT2MB1aari",
        "outputId": "30008e49-9775-4241-dc83-601efd7d22a5"
      },
      "source": [
        " 3 > 2 and 4 > 2 and 2 > 1"
      ],
      "execution_count": null,
      "outputs": [
        {
          "output_type": "execute_result",
          "data": {
            "text/plain": [
              "True"
            ]
          },
          "metadata": {
            "tags": []
          },
          "execution_count": 24
        }
      ]
    },
    {
      "cell_type": "code",
      "metadata": {
        "colab": {
          "base_uri": "https://localhost:8080/"
        },
        "id": "qnSFAaRsbQsv",
        "outputId": "e64b87aa-1922-4be5-b685-54447bdb5fa7"
      },
      "source": [
        "#se cumple una de las condiciones\n",
        "3 > 2 or 4 > 5"
      ],
      "execution_count": null,
      "outputs": [
        {
          "output_type": "execute_result",
          "data": {
            "text/plain": [
              "True"
            ]
          },
          "metadata": {
            "tags": []
          },
          "execution_count": 25
        }
      ]
    },
    {
      "cell_type": "code",
      "metadata": {
        "colab": {
          "base_uri": "https://localhost:8080/"
        },
        "id": "tADAQrX3bsVB",
        "outputId": "8df3c160-cf23-4a8b-8724-b7abeb77cc88"
      },
      "source": [
        "3 > 2 or 2 >4"
      ],
      "execution_count": null,
      "outputs": [
        {
          "output_type": "execute_result",
          "data": {
            "text/plain": [
              "True"
            ]
          },
          "metadata": {
            "tags": []
          },
          "execution_count": 26
        }
      ]
    },
    {
      "cell_type": "code",
      "metadata": {
        "colab": {
          "base_uri": "https://localhost:8080/"
        },
        "id": "ERcBd7sEbvbC",
        "outputId": "9cb79119-01f9-4bd5-cd11-1bfe5768d081"
      },
      "source": [
        "3 > 4 or 2 > 3"
      ],
      "execution_count": null,
      "outputs": [
        {
          "output_type": "execute_result",
          "data": {
            "text/plain": [
              "False"
            ]
          },
          "metadata": {
            "tags": []
          },
          "execution_count": 27
        }
      ]
    },
    {
      "cell_type": "code",
      "metadata": {
        "colab": {
          "base_uri": "https://localhost:8080/"
        },
        "id": "sT0-30S4b7WS",
        "outputId": "cb9f925c-5ba6-4c81-97de-352f1440077c"
      },
      "source": [
        "# no se cumple\n",
        "not 2 > 3"
      ],
      "execution_count": null,
      "outputs": [
        {
          "output_type": "execute_result",
          "data": {
            "text/plain": [
              "True"
            ]
          },
          "metadata": {
            "tags": []
          },
          "execution_count": 29
        }
      ]
    },
    {
      "cell_type": "code",
      "metadata": {
        "colab": {
          "base_uri": "https://localhost:8080/"
        },
        "id": "uXXN5WApcLf3",
        "outputId": "93346d52-2553-4a22-9d00-ea667e514bd5"
      },
      "source": [
        "not 3 > 2 "
      ],
      "execution_count": null,
      "outputs": [
        {
          "output_type": "execute_result",
          "data": {
            "text/plain": [
              "False"
            ]
          },
          "metadata": {
            "tags": []
          },
          "execution_count": 30
        }
      ]
    },
    {
      "cell_type": "markdown",
      "metadata": {
        "id": "Btf3T1_xccrB"
      },
      "source": [
        "## Operadores de identidad"
      ]
    },
    {
      "cell_type": "code",
      "metadata": {
        "id": "4J7EVoEUcP8V"
      },
      "source": [
        "is \n",
        "is not"
      ],
      "execution_count": null,
      "outputs": []
    },
    {
      "cell_type": "code",
      "metadata": {
        "colab": {
          "base_uri": "https://localhost:8080/"
        },
        "id": "L7Gk4ZGjcpHt",
        "outputId": "d0bff45d-08f3-4bd1-9273-65f944029380"
      },
      "source": [
        "#es igual\n",
        "x = 3\n",
        "y = 3\n",
        "z = 5\n",
        "y is x"
      ],
      "execution_count": null,
      "outputs": [
        {
          "output_type": "execute_result",
          "data": {
            "text/plain": [
              "True"
            ]
          },
          "metadata": {
            "tags": []
          },
          "execution_count": 32
        }
      ]
    },
    {
      "cell_type": "code",
      "metadata": {
        "colab": {
          "base_uri": "https://localhost:8080/"
        },
        "id": "BDdI6on2co3e",
        "outputId": "47b260f8-b7a5-4e4f-a32f-38d28fd01646"
      },
      "source": [
        "z is x "
      ],
      "execution_count": null,
      "outputs": [
        {
          "output_type": "execute_result",
          "data": {
            "text/plain": [
              "False"
            ]
          },
          "metadata": {
            "tags": []
          },
          "execution_count": 33
        }
      ]
    },
    {
      "cell_type": "code",
      "metadata": {
        "colab": {
          "base_uri": "https://localhost:8080/"
        },
        "id": "BhzrAce5dZGT",
        "outputId": "03bdd145-0ca2-4136-ee4e-d7ebfd7498c9"
      },
      "source": [
        "z is not x"
      ],
      "execution_count": null,
      "outputs": [
        {
          "output_type": "execute_result",
          "data": {
            "text/plain": [
              "True"
            ]
          },
          "metadata": {
            "tags": []
          },
          "execution_count": 34
        }
      ]
    },
    {
      "cell_type": "code",
      "metadata": {
        "colab": {
          "base_uri": "https://localhost:8080/"
        },
        "id": "KQDouMt5da-8",
        "outputId": "c37977ee-5537-4871-93c9-17288cfe6af4"
      },
      "source": [
        "y is not x"
      ],
      "execution_count": null,
      "outputs": [
        {
          "output_type": "execute_result",
          "data": {
            "text/plain": [
              "False"
            ]
          },
          "metadata": {
            "tags": []
          },
          "execution_count": 35
        }
      ]
    },
    {
      "cell_type": "markdown",
      "metadata": {
        "id": "t0swc1krcxOw"
      },
      "source": [
        "## Operadores de membresia"
      ]
    },
    {
      "cell_type": "code",
      "metadata": {
        "id": "64jpC8ANcwbr"
      },
      "source": [
        "in\n",
        "not in"
      ],
      "execution_count": null,
      "outputs": []
    },
    {
      "cell_type": "code",
      "metadata": {
        "id": "5dr3-xhJco06"
      },
      "source": [
        "# dentro de\n",
        "x = [1,2,3,4,5,6]"
      ],
      "execution_count": null,
      "outputs": []
    },
    {
      "cell_type": "code",
      "metadata": {
        "colab": {
          "base_uri": "https://localhost:8080/"
        },
        "id": "4IBzYRBMcoyr",
        "outputId": "ce84c190-cd8f-40f6-e2e2-58c473b391f2"
      },
      "source": [
        "4 in x"
      ],
      "execution_count": null,
      "outputs": [
        {
          "output_type": "execute_result",
          "data": {
            "text/plain": [
              "True"
            ]
          },
          "metadata": {
            "tags": []
          },
          "execution_count": 37
        }
      ]
    },
    {
      "cell_type": "code",
      "metadata": {
        "colab": {
          "base_uri": "https://localhost:8080/"
        },
        "id": "L91dr0LDd3nF",
        "outputId": "43f5980b-6333-46e4-8a47-5d46476e7985"
      },
      "source": [
        "7 in x"
      ],
      "execution_count": null,
      "outputs": [
        {
          "output_type": "execute_result",
          "data": {
            "text/plain": [
              "False"
            ]
          },
          "metadata": {
            "tags": []
          },
          "execution_count": 39
        }
      ]
    },
    {
      "cell_type": "code",
      "metadata": {
        "colab": {
          "base_uri": "https://localhost:8080/"
        },
        "id": "DcSVLBS9d5Zt",
        "outputId": "8fd6c5bb-3fae-4ec6-df7e-e986775db763"
      },
      "source": [
        "9 not in x"
      ],
      "execution_count": null,
      "outputs": [
        {
          "output_type": "execute_result",
          "data": {
            "text/plain": [
              "True"
            ]
          },
          "metadata": {
            "tags": []
          },
          "execution_count": 41
        }
      ]
    },
    {
      "cell_type": "code",
      "metadata": {
        "id": "V-mWsymSd86m"
      },
      "source": [
        "#in string\n",
        "x = 'VIVA MEXICO'"
      ],
      "execution_count": null,
      "outputs": []
    },
    {
      "cell_type": "code",
      "metadata": {
        "colab": {
          "base_uri": "https://localhost:8080/"
        },
        "id": "pEF2xZ_TeIoP",
        "outputId": "bc962edf-5b97-4534-a315-94fe55ed359a"
      },
      "source": [
        "'M' in x"
      ],
      "execution_count": null,
      "outputs": [
        {
          "output_type": "execute_result",
          "data": {
            "text/plain": [
              "True"
            ]
          },
          "metadata": {
            "tags": []
          },
          "execution_count": 43
        }
      ]
    },
    {
      "cell_type": "code",
      "metadata": {
        "colab": {
          "base_uri": "https://localhost:8080/"
        },
        "id": "WyiKJXFNeLWT",
        "outputId": "7a8eb330-910f-467d-afd0-a8447b1a52c2"
      },
      "source": [
        "'Z' in x"
      ],
      "execution_count": null,
      "outputs": [
        {
          "output_type": "execute_result",
          "data": {
            "text/plain": [
              "False"
            ]
          },
          "metadata": {
            "tags": []
          },
          "execution_count": 44
        }
      ]
    },
    {
      "cell_type": "code",
      "metadata": {
        "colab": {
          "base_uri": "https://localhost:8080/"
        },
        "id": "hzxA2JWfeNPS",
        "outputId": "14122849-87f6-4110-d2a7-c0d2947f04f6"
      },
      "source": [
        "'V' not in x"
      ],
      "execution_count": null,
      "outputs": [
        {
          "output_type": "execute_result",
          "data": {
            "text/plain": [
              "False"
            ]
          },
          "metadata": {
            "tags": []
          },
          "execution_count": 45
        }
      ]
    },
    {
      "cell_type": "code",
      "metadata": {
        "id": "49fgiDPTeTMz"
      },
      "source": [
        ""
      ],
      "execution_count": null,
      "outputs": []
    },
    {
      "cell_type": "markdown",
      "metadata": {
        "id": "jO-EaJnxhjSI"
      },
      "source": [
        "# Funciones y metodos"
      ]
    },
    {
      "cell_type": "markdown",
      "metadata": {
        "id": "qBUg6sMtiAEe"
      },
      "source": [
        "## Input"
      ]
    },
    {
      "cell_type": "code",
      "metadata": {
        "colab": {
          "base_uri": "https://localhost:8080/"
        },
        "id": "_tqk7lF5hw8T",
        "outputId": "97833f5d-0323-4279-dca2-1a48b3936c21"
      },
      "source": [
        "x = input('Estribe el primer numero: ')\n",
        "y = input('Estribe el segundo numero: ')\n",
        "z = x + y\n",
        "print(z)"
      ],
      "execution_count": null,
      "outputs": [
        {
          "output_type": "stream",
          "text": [
            "Estribe el primer numero: 5\n",
            "Estribe el segundo numero: 2\n",
            "52\n"
          ],
          "name": "stdout"
        }
      ]
    },
    {
      "cell_type": "code",
      "metadata": {
        "colab": {
          "base_uri": "https://localhost:8080/"
        },
        "id": "l-bsxIH2iH72",
        "outputId": "6000a507-4a07-46af-b42c-8ad73ed969a6"
      },
      "source": [
        "x = input('Estribe el primer numero: ')\n",
        "y = input('Estribe el segundo numero: ')\n",
        "x = int(x)\n",
        "y = int(y)\n",
        "z = x + y\n",
        "print(z)"
      ],
      "execution_count": null,
      "outputs": [
        {
          "output_type": "stream",
          "text": [
            "Estribe el primer numero: 4\n",
            "Estribe el segundo numero: 2\n",
            "6\n"
          ],
          "name": "stdout"
        }
      ]
    },
    {
      "cell_type": "code",
      "metadata": {
        "colab": {
          "base_uri": "https://localhost:8080/"
        },
        "id": "BBc1gH33jXah",
        "outputId": "fa28fe82-a0ed-40a5-e7d8-997da9d2ef22"
      },
      "source": [
        "x = input('Estribe el primer numero: ')\n",
        "y = input('Estribe el segundo numero: ')\n",
        "z = int(x) + int(y)\n",
        "print(z)"
      ],
      "execution_count": null,
      "outputs": [
        {
          "output_type": "stream",
          "text": [
            "Estribe el primer numero: 5\n",
            "Estribe el segundo numero: 5\n",
            "10\n"
          ],
          "name": "stdout"
        }
      ]
    },
    {
      "cell_type": "markdown",
      "metadata": {
        "id": "P6vZikMzzbb4"
      },
      "source": [
        "## Conversiones"
      ]
    },
    {
      "cell_type": "code",
      "metadata": {
        "id": "gOBUV6U_jjrp",
        "colab": {
          "base_uri": "https://localhost:8080/"
        },
        "outputId": "f477b109-2d61-4111-a5f1-b4c4d71ce5a0"
      },
      "source": [
        "c = input('Escribe la temperatura en Celcious: ')\n",
        "c = int(c)\n",
        "f = (9/5) + c + 32\n",
        "print(f)"
      ],
      "execution_count": null,
      "outputs": [
        {
          "output_type": "stream",
          "text": [
            "Escribe la temperatura en Celcious: 31\n",
            "64.8\n"
          ],
          "name": "stdout"
        }
      ]
    },
    {
      "cell_type": "code",
      "metadata": {
        "colab": {
          "base_uri": "https://localhost:8080/"
        },
        "id": "T4KdnIE30XEW",
        "outputId": "28ae7adb-2816-425d-cb5d-c5f91885bbaa"
      },
      "source": [
        "m = input('Ingresa el numero en minutos')\n",
        "s = input('Ingresa el numero en segundos')\n",
        "h = int(m)/60 + int(s)/3600\n",
        "print(h)"
      ],
      "execution_count": null,
      "outputs": [
        {
          "output_type": "stream",
          "text": [
            "Ingresa el numero en minutos120\n",
            "Ingresa el numero en segundos1\n",
            "2.000277777777778\n"
          ],
          "name": "stdout"
        }
      ]
    },
    {
      "cell_type": "markdown",
      "metadata": {
        "id": "Ak3FH1xM3gWL"
      },
      "source": [
        "## Concepto de funciones"
      ]
    },
    {
      "cell_type": "code",
      "metadata": {
        "id": "iwp0aCAS1hyx"
      },
      "source": [
        "def add(x,y):\n",
        "  z = x + y\n",
        "  return print(z)\n"
      ],
      "execution_count": null,
      "outputs": []
    },
    {
      "cell_type": "code",
      "metadata": {
        "colab": {
          "base_uri": "https://localhost:8080/"
        },
        "id": "8c6-i1fw3QH2",
        "outputId": "a2019d0a-1d6c-4044-faba-4d6ec60762f1"
      },
      "source": [
        "a = 5\n",
        "b = 3\n",
        "\n",
        "add(a,b)"
      ],
      "execution_count": null,
      "outputs": [
        {
          "output_type": "stream",
          "text": [
            "8\n"
          ],
          "name": "stdout"
        }
      ]
    },
    {
      "cell_type": "code",
      "metadata": {
        "colab": {
          "base_uri": "https://localhost:8080/"
        },
        "id": "XHdgn_W03xsh",
        "outputId": "523d136d-b44b-4a1d-f18d-4c4e1e5c8d35"
      },
      "source": [
        "c = 6\n",
        "d = 8\n",
        "add(c,d)"
      ],
      "execution_count": null,
      "outputs": [
        {
          "output_type": "stream",
          "text": [
            "14\n"
          ],
          "name": "stdout"
        }
      ]
    },
    {
      "cell_type": "code",
      "metadata": {
        "colab": {
          "base_uri": "https://localhost:8080/"
        },
        "id": "lFU0oAmx31t4",
        "outputId": "be9389ab-0772-4c7b-870f-3328f08ca5f6"
      },
      "source": [
        "#Sumador \n",
        "\n",
        "#Parametros definidos donde 'y = 0'\n",
        "\n",
        "def add(x, y=0):\n",
        "  z = x + y\n",
        "  print(z)\n",
        "\n",
        "a = input('Enter the first value: ')\n",
        "a = int(a)\n",
        "\n",
        "add(a)\n"
      ],
      "execution_count": null,
      "outputs": [
        {
          "output_type": "stream",
          "text": [
            "Enter the first value: 5\n",
            "5\n"
          ],
          "name": "stdout"
        }
      ]
    },
    {
      "cell_type": "code",
      "metadata": {
        "id": "zXc4_mqvxTAQ",
        "colab": {
          "base_uri": "https://localhost:8080/"
        },
        "outputId": "7ffff352-05d9-46c8-aa7e-a17a7296772a"
      },
      "source": [
        "#Programas dentro de una función.\n",
        "\n",
        "#function 1\n",
        "def temp(c):\n",
        "  f = (9/5)*c + 32\n",
        "  return print(f)\n",
        "\n",
        "c = input('Escribe la temperatura en celsius: ')\n",
        "c = int(c)\n",
        "temp(c)\n",
        "\n",
        "#function 2\n",
        "def leng(m, s):\n",
        "  h = m/60 + s/3600\n",
        "  return print(h)\n",
        "\n",
        "m = input('Escribe el numero en  minutos')\n",
        "m = int(m)\n",
        "\n",
        "s = input('Escibe el numero en segundos')\n",
        "s = int(s)\n",
        "leng(m,s)"
      ],
      "execution_count": null,
      "outputs": [
        {
          "output_type": "stream",
          "text": [
            "Escribe la temperatura en celsius: 5\n",
            "41.0\n",
            "Escribe el numero en  minutos120\n",
            "Escibe el numero en segundos3600\n",
            "3.0\n"
          ],
          "name": "stdout"
        }
      ]
    },
    {
      "cell_type": "code",
      "metadata": {
        "id": "3hIIQqsIxS84",
        "colab": {
          "base_uri": "https://localhost:8080/"
        },
        "outputId": "3b287022-88eb-4c2f-e910-65dbb451f920"
      },
      "source": [
        "def div(a, b):\n",
        "  if (b == 0):\n",
        "    return print('This not is posible, are you mad')\n",
        "  else:\n",
        "    c = a/b\n",
        "    return print(c)\n",
        "\n",
        "a = input('Ingresa cualquier valor')\n",
        "b = input('Ingresa el segundo valor')\n",
        "div(int(a), int(b))"
      ],
      "execution_count": null,
      "outputs": [
        {
          "output_type": "stream",
          "text": [
            "Ingresa cualquier valor4\n",
            "Ingresa el segundo valor0\n",
            "This not is posible, are you mad\n"
          ],
          "name": "stdout"
        }
      ]
    },
    {
      "cell_type": "markdown",
      "metadata": {
        "id": "E_td3Tjl34NN"
      },
      "source": [
        "# Errores con python"
      ]
    },
    {
      "cell_type": "markdown",
      "metadata": {
        "id": "TxbOx4nEm8xi"
      },
      "source": [
        "## Error Syntaxis"
      ]
    },
    {
      "cell_type": "code",
      "metadata": {
        "colab": {
          "base_uri": "https://localhost:8080/",
          "height": 128
        },
        "id": "LgEXCBrEk-EZ",
        "outputId": "fc4b09f7-7dea-4e88-b744-d91209f43dd2"
      },
      "source": [
        "#Error de Sintaxis\n",
        "print('dfs'"
      ],
      "execution_count": null,
      "outputs": [
        {
          "output_type": "error",
          "ename": "SyntaxError",
          "evalue": "ignored",
          "traceback": [
            "\u001b[0;36m  File \u001b[0;32m\"<ipython-input-2-ec5ab12d42a1>\"\u001b[0;36m, line \u001b[0;32m2\u001b[0m\n\u001b[0;31m    print('dfs'\u001b[0m\n\u001b[0m               ^\u001b[0m\n\u001b[0;31mSyntaxError\u001b[0m\u001b[0;31m:\u001b[0m unexpected EOF while parsing\n"
          ]
        }
      ]
    },
    {
      "cell_type": "code",
      "metadata": {
        "colab": {
          "base_uri": "https://localhost:8080/",
          "height": 162
        },
        "id": "lGERlcGwmiAb",
        "outputId": "8ca783d8-b11d-4eaa-d653-546e7fd24e1a"
      },
      "source": [
        "print(d"
      ],
      "execution_count": null,
      "outputs": [
        {
          "output_type": "error",
          "ename": "NameError",
          "evalue": "ignored",
          "traceback": [
            "\u001b[0;31m---------------------------------------------------------------------------\u001b[0m",
            "\u001b[0;31mNameError\u001b[0m                                 Traceback (most recent call last)",
            "\u001b[0;32m<ipython-input-3-85549cb1de5f>\u001b[0m in \u001b[0;36m<module>\u001b[0;34m()\u001b[0m\n\u001b[0;32m----> 1\u001b[0;31m \u001b[0mprint\u001b[0m\u001b[0;34m(\u001b[0m\u001b[0md\u001b[0m\u001b[0;34m)\u001b[0m\u001b[0;34m\u001b[0m\u001b[0;34m\u001b[0m\u001b[0m\n\u001b[0m",
            "\u001b[0;31mNameError\u001b[0m: name 'd' is not defined"
          ]
        }
      ]
    },
    {
      "cell_type": "markdown",
      "metadata": {
        "id": "tvB-4qVooD4X"
      },
      "source": [
        "## Error de indentación"
      ]
    },
    {
      "cell_type": "code",
      "metadata": {
        "colab": {
          "base_uri": "https://localhost:8080/",
          "height": 128
        },
        "id": "_HrPayyvnBxR",
        "outputId": "2f0082de-4374-45b7-9a44-ca0cf0bfacf5"
      },
      "source": [
        "def five(x):\n",
        "  if x > 5:\n",
        "    print('ok')\n",
        "else:\n",
        "    print('what')\n",
        "        #print('ok')  "
      ],
      "execution_count": null,
      "outputs": [
        {
          "output_type": "error",
          "ename": "SyntaxError",
          "evalue": "ignored",
          "traceback": [
            "\u001b[0;36m  File \u001b[0;32m\"<ipython-input-18-98b38763f9ea>\"\u001b[0;36m, line \u001b[0;32m4\u001b[0m\n\u001b[0;31m    else:\u001b[0m\n\u001b[0m       ^\u001b[0m\n\u001b[0;31mSyntaxError\u001b[0m\u001b[0;31m:\u001b[0m invalid syntax\n"
          ]
        }
      ]
    },
    {
      "cell_type": "code",
      "metadata": {
        "colab": {
          "base_uri": "https://localhost:8080/"
        },
        "id": "k6qy6pxFoRuv",
        "outputId": "afb1d95b-2efd-4409-c0cb-9a7537e8b9e9"
      },
      "source": [
        "five(4)"
      ],
      "execution_count": null,
      "outputs": [
        {
          "output_type": "stream",
          "text": [
            "what\n"
          ],
          "name": "stdout"
        }
      ]
    },
    {
      "cell_type": "code",
      "metadata": {
        "id": "qbBAL3VApvtG"
      },
      "source": [
        "def add(a,b):\n",
        "  c = a + b\n",
        "  print(c)\n",
        "  a = 3\n",
        "  "
      ],
      "execution_count": null,
      "outputs": []
    },
    {
      "cell_type": "markdown",
      "metadata": {
        "id": "75zd50R5pYlN"
      },
      "source": [
        "## Typos de error"
      ]
    },
    {
      "cell_type": "code",
      "metadata": {
        "colab": {
          "base_uri": "https://localhost:8080/"
        },
        "id": "OGyILNf9pSqS",
        "outputId": "c9871155-6f3c-4c83-878a-ecc816b038eb"
      },
      "source": [
        "a = input('Enter: ') \n",
        "b = input('Enter: ')\n",
        "c = (a + b) * 2\n",
        "print(c)\n"
      ],
      "execution_count": null,
      "outputs": [
        {
          "output_type": "stream",
          "text": [
            "Enter: 5\n",
            "Enter: 5\n",
            "5555\n"
          ],
          "name": "stdout"
        }
      ]
    },
    {
      "cell_type": "markdown",
      "metadata": {
        "id": "qCwR6SeOr1CB"
      },
      "source": [
        "## Nombre de error"
      ]
    },
    {
      "cell_type": "code",
      "metadata": {
        "colab": {
          "base_uri": "https://localhost:8080/",
          "height": 162
        },
        "id": "lVgB3hXRo2Wi",
        "outputId": "fa3402e6-5474-462c-8fba-b771bf656078"
      },
      "source": [
        "print(x)"
      ],
      "execution_count": null,
      "outputs": [
        {
          "output_type": "error",
          "ename": "NameError",
          "evalue": "ignored",
          "traceback": [
            "\u001b[0;31m---------------------------------------------------------------------------\u001b[0m",
            "\u001b[0;31mNameError\u001b[0m                                 Traceback (most recent call last)",
            "\u001b[0;32m<ipython-input-22-fc17d851ef81>\u001b[0m in \u001b[0;36m<module>\u001b[0;34m()\u001b[0m\n\u001b[0;32m----> 1\u001b[0;31m \u001b[0mprint\u001b[0m\u001b[0;34m(\u001b[0m\u001b[0mx\u001b[0m\u001b[0;34m)\u001b[0m\u001b[0;34m\u001b[0m\u001b[0;34m\u001b[0m\u001b[0m\n\u001b[0m",
            "\u001b[0;31mNameError\u001b[0m: name 'x' is not defined"
          ]
        }
      ]
    },
    {
      "cell_type": "markdown",
      "metadata": {
        "id": "55f8oPgayBkR"
      },
      "source": [
        "# Toma de decisiones"
      ]
    },
    {
      "cell_type": "markdown",
      "metadata": {
        "id": "hCAR_HU3zpNW"
      },
      "source": [
        "##if - else"
      ]
    },
    {
      "cell_type": "code",
      "metadata": {
        "id": "flby_WkvvB2e",
        "colab": {
          "base_uri": "https://localhost:8080/"
        },
        "outputId": "a635d9c7-2772-4a6e-a99b-7b6be2201371"
      },
      "source": [
        "x = 3\n",
        "y = 3\n",
        "\n",
        "if (x == y):\n",
        "  print('Son iguales')"
      ],
      "execution_count": null,
      "outputs": [
        {
          "output_type": "stream",
          "text": [
            "Son iguales\n"
          ],
          "name": "stdout"
        }
      ]
    },
    {
      "cell_type": "code",
      "metadata": {
        "colab": {
          "base_uri": "https://localhost:8080/"
        },
        "id": "0dIrx84idiWu",
        "outputId": "83bae7bc-da3b-4646-8469-b882a62d07ee"
      },
      "source": [
        "x = 3\n",
        "y = 2\n",
        "\n",
        "if (x == y):\n",
        "  print('Son iguales')\n",
        "if (x != y):\n",
        "  print('No son iguales')"
      ],
      "execution_count": null,
      "outputs": [
        {
          "output_type": "stream",
          "text": [
            "No son iguales\n"
          ],
          "name": "stdout"
        }
      ]
    },
    {
      "cell_type": "code",
      "metadata": {
        "colab": {
          "base_uri": "https://localhost:8080/"
        },
        "id": "jsymAlS1dvIP",
        "outputId": "c8f98581-7d98-4930-fd16-a322b85ca9ad"
      },
      "source": [
        "x = 3\n",
        "y = 2\n",
        "\n",
        "if (x == y):\n",
        "  print('Son iguales')\n",
        "if (x != y):\n",
        "  print('No son iguales')"
      ],
      "execution_count": null,
      "outputs": [
        {
          "output_type": "stream",
          "text": [
            "No son iguales\n"
          ],
          "name": "stdout"
        }
      ]
    },
    {
      "cell_type": "code",
      "metadata": {
        "colab": {
          "base_uri": "https://localhost:8080/"
        },
        "id": "rj-Nc5qEeQ13",
        "outputId": "f18a2b46-8f4e-421e-e100-de60d5a987c4"
      },
      "source": [
        "x = 3\n",
        "y = 3\n",
        "\n",
        "if (x == y):\n",
        "  z = x + y\n",
        "  print(z)\n",
        "else:\n",
        "  print('No son iguales')"
      ],
      "execution_count": null,
      "outputs": [
        {
          "output_type": "stream",
          "text": [
            "6\n"
          ],
          "name": "stdout"
        }
      ]
    },
    {
      "cell_type": "markdown",
      "metadata": {
        "id": "Th3m4DoDe93p"
      },
      "source": [
        "## elif / else"
      ]
    },
    {
      "cell_type": "code",
      "metadata": {
        "colab": {
          "base_uri": "https://localhost:8080/"
        },
        "id": "0JKe9BRyetCr",
        "outputId": "42727920-00d6-46f6-ae74-4be46cacd434"
      },
      "source": [
        "x = 4 \n",
        "y = 5\n",
        "z = 2\n",
        "\n",
        "if (x == y):\n",
        "  print('x and y are equal')\n",
        "elif(x > y):\n",
        "  print('Mayor que ')\n",
        "elif(x < y):\n",
        "  print('Menor que')\n"
      ],
      "execution_count": null,
      "outputs": [
        {
          "output_type": "stream",
          "text": [
            "Menor que\n"
          ],
          "name": "stdout"
        }
      ]
    },
    {
      "cell_type": "markdown",
      "metadata": {
        "id": "cddivqEgy1zy"
      },
      "source": [
        "## Condiciones Multiples"
      ]
    },
    {
      "cell_type": "code",
      "metadata": {
        "id": "ZXovOAxJf6wA",
        "colab": {
          "base_uri": "https://localhost:8080/"
        },
        "outputId": "dcd1d7ac-188b-4659-e77e-05c84c6353b7"
      },
      "source": [
        "x = 3\n",
        "y = 2\n",
        "z = 2\n",
        "\n",
        "if (x == y and x == z):\n",
        "  print('X es igual para y, z')\n",
        "elif(x == y and x != z):\n",
        "  print('x es igual para y pero no es igual para z')\n",
        "elif(y == z and x != z):\n",
        "  print('y es igual para z pero no es igual para x')\n",
        "else:\n",
        "  print('No existe comparcion')"
      ],
      "execution_count": null,
      "outputs": [
        {
          "output_type": "stream",
          "text": [
            "y es igual para z pero no es igual para x\n"
          ],
          "name": "stdout"
        }
      ]
    },
    {
      "cell_type": "markdown",
      "metadata": {
        "id": "KNTPkMy81MKx"
      },
      "source": [
        "## Condiciones anidadas"
      ]
    },
    {
      "cell_type": "code",
      "metadata": {
        "colab": {
          "base_uri": "https://localhost:8080/"
        },
        "id": "n-A6ZvDtz7-I",
        "outputId": "69f338d6-f034-4025-9e50-45b19d11c12b"
      },
      "source": [
        "x = 3\n",
        "y = 3\n",
        "z = 1\n",
        "\n",
        "if(x == y):\n",
        "  if(x != z):\n",
        "    if(y == z):\n",
        "      print('x es igual para y')\n",
        "    else: \n",
        "      print('whats upp here!')"
      ],
      "execution_count": null,
      "outputs": [
        {
          "output_type": "stream",
          "text": [
            "whats upp here!\n"
          ],
          "name": "stdout"
        }
      ]
    },
    {
      "cell_type": "markdown",
      "metadata": {
        "id": "u9UH5pGnBk1x"
      },
      "source": [
        "# Bucles"
      ]
    },
    {
      "cell_type": "markdown",
      "metadata": {
        "id": "v0yOp-lFFUZQ"
      },
      "source": [
        "## for"
      ]
    },
    {
      "cell_type": "code",
      "metadata": {
        "colab": {
          "base_uri": "https://localhost:8080/"
        },
        "id": "7FkiJJR12JeA",
        "outputId": "32e6d4d3-aec1-4229-d689-e6f1921fb3d0"
      },
      "source": [
        "x= [1,2,3,4,5,6,7,8,9,10]\n",
        "\n",
        "for item in x:\n",
        "  print(item) "
      ],
      "execution_count": null,
      "outputs": [
        {
          "output_type": "stream",
          "text": [
            "1\n",
            "2\n",
            "3\n",
            "4\n",
            "5\n",
            "6\n",
            "7\n",
            "8\n",
            "9\n",
            "10\n"
          ],
          "name": "stdout"
        }
      ]
    },
    {
      "cell_type": "code",
      "metadata": {
        "colab": {
          "base_uri": "https://localhost:8080/"
        },
        "id": "ZaMnU8VSras8",
        "outputId": "f8b720bc-cc28-4823-c359-b190baa91007"
      },
      "source": [
        "x = 'Blueberry'\n",
        "\n",
        "for i in x:\n",
        "  print(i)"
      ],
      "execution_count": null,
      "outputs": [
        {
          "output_type": "stream",
          "text": [
            "B\n",
            "l\n",
            "u\n",
            "e\n",
            "b\n",
            "e\n",
            "r\n",
            "r\n",
            "y\n"
          ],
          "name": "stdout"
        }
      ]
    },
    {
      "cell_type": "code",
      "metadata": {
        "colab": {
          "base_uri": "https://localhost:8080/"
        },
        "id": "t-aKQLR7DyyD",
        "outputId": "45d03427-3182-4e23-f0c6-6c31bbc4eac6"
      },
      "source": [
        "# iniciar en numeración python\n",
        "x= [0,1,2,3,4,5,6,7,8,9]\n",
        "\n",
        "for i in x:\n",
        "  x[i] = input('What is your name: ')\n",
        "\n",
        "print(x)"
      ],
      "execution_count": null,
      "outputs": [
        {
          "output_type": "stream",
          "text": [
            "What is your name: g\n",
            "What is your name: g\n",
            "What is your name: d\n",
            "What is your name: s\n",
            "What is your name: q\n",
            "What is your name: e\n",
            "What is your name: r\n",
            "What is your name: t\n",
            "What is your name: y\n",
            "What is your name: u\n",
            "['g', 'g', 'd', 's', 'q', 'e', 'r', 't', 'y', 'u']\n"
          ],
          "name": "stdout"
        }
      ]
    },
    {
      "cell_type": "code",
      "metadata": {
        "colab": {
          "base_uri": "https://localhost:8080/"
        },
        "id": "wi6HgOhxlKY6",
        "outputId": "c34253e6-6e46-4b70-89d1-b89472aae89c"
      },
      "source": [
        "x = [0,1]\n",
        "\n",
        "for i in x:\n",
        "  x[i] = input('Enter your name: ')\n",
        "\n",
        "print(x)"
      ],
      "execution_count": null,
      "outputs": [
        {
          "output_type": "stream",
          "text": [
            "Enter your name: Oswaldo\n",
            "Enter your name: Itzam\n",
            "['Oswaldo', 'Itzam']\n"
          ],
          "name": "stdout"
        }
      ]
    },
    {
      "cell_type": "code",
      "metadata": {
        "colab": {
          "base_uri": "https://localhost:8080/",
          "height": 622
        },
        "id": "eVGwfEvVmXAq",
        "outputId": "426890cc-98e5-4e7e-b9b4-9da80e79448f"
      },
      "source": [
        "telephone_number = [0,1]\n",
        "name = [0,1] \n",
        "\n",
        "for i in name:\n",
        "  name[i] = input('Escribe tu nombre: ')\n",
        "  for i in telephone_number:\n",
        "    telephone_number[i] = input('Escribe tu telefono: ')\n",
        "\n",
        "print(name, telephone_number)"
      ],
      "execution_count": null,
      "outputs": [
        {
          "output_type": "stream",
          "text": [
            "Escribe tu nombre: L\n",
            "Escribe tu telefono: 5\n",
            "Escribe tu telefono: \n",
            "Escribe tu nombre: \n"
          ],
          "name": "stdout"
        },
        {
          "output_type": "error",
          "ename": "KeyboardInterrupt",
          "evalue": "ignored",
          "traceback": [
            "\u001b[0;31m---------------------------------------------------------------------------\u001b[0m",
            "\u001b[0;31mKeyboardInterrupt\u001b[0m                         Traceback (most recent call last)",
            "\u001b[0;32m/usr/local/lib/python3.7/dist-packages/ipykernel/kernelbase.py\u001b[0m in \u001b[0;36m_input_request\u001b[0;34m(self, prompt, ident, parent, password)\u001b[0m\n\u001b[1;32m    728\u001b[0m             \u001b[0;32mtry\u001b[0m\u001b[0;34m:\u001b[0m\u001b[0;34m\u001b[0m\u001b[0;34m\u001b[0m\u001b[0m\n\u001b[0;32m--> 729\u001b[0;31m                 \u001b[0mident\u001b[0m\u001b[0;34m,\u001b[0m \u001b[0mreply\u001b[0m \u001b[0;34m=\u001b[0m \u001b[0mself\u001b[0m\u001b[0;34m.\u001b[0m\u001b[0msession\u001b[0m\u001b[0;34m.\u001b[0m\u001b[0mrecv\u001b[0m\u001b[0;34m(\u001b[0m\u001b[0mself\u001b[0m\u001b[0;34m.\u001b[0m\u001b[0mstdin_socket\u001b[0m\u001b[0;34m,\u001b[0m \u001b[0;36m0\u001b[0m\u001b[0;34m)\u001b[0m\u001b[0;34m\u001b[0m\u001b[0;34m\u001b[0m\u001b[0m\n\u001b[0m\u001b[1;32m    730\u001b[0m             \u001b[0;32mexcept\u001b[0m \u001b[0mException\u001b[0m\u001b[0;34m:\u001b[0m\u001b[0;34m\u001b[0m\u001b[0;34m\u001b[0m\u001b[0m\n",
            "\u001b[0;32m/usr/local/lib/python3.7/dist-packages/jupyter_client/session.py\u001b[0m in \u001b[0;36mrecv\u001b[0;34m(self, socket, mode, content, copy)\u001b[0m\n\u001b[1;32m    802\u001b[0m         \u001b[0;32mtry\u001b[0m\u001b[0;34m:\u001b[0m\u001b[0;34m\u001b[0m\u001b[0;34m\u001b[0m\u001b[0m\n\u001b[0;32m--> 803\u001b[0;31m             \u001b[0mmsg_list\u001b[0m \u001b[0;34m=\u001b[0m \u001b[0msocket\u001b[0m\u001b[0;34m.\u001b[0m\u001b[0mrecv_multipart\u001b[0m\u001b[0;34m(\u001b[0m\u001b[0mmode\u001b[0m\u001b[0;34m,\u001b[0m \u001b[0mcopy\u001b[0m\u001b[0;34m=\u001b[0m\u001b[0mcopy\u001b[0m\u001b[0;34m)\u001b[0m\u001b[0;34m\u001b[0m\u001b[0;34m\u001b[0m\u001b[0m\n\u001b[0m\u001b[1;32m    804\u001b[0m         \u001b[0;32mexcept\u001b[0m \u001b[0mzmq\u001b[0m\u001b[0;34m.\u001b[0m\u001b[0mZMQError\u001b[0m \u001b[0;32mas\u001b[0m \u001b[0me\u001b[0m\u001b[0;34m:\u001b[0m\u001b[0;34m\u001b[0m\u001b[0;34m\u001b[0m\u001b[0m\n",
            "\u001b[0;32m/usr/local/lib/python3.7/dist-packages/zmq/sugar/socket.py\u001b[0m in \u001b[0;36mrecv_multipart\u001b[0;34m(self, flags, copy, track)\u001b[0m\n\u001b[1;32m    618\u001b[0m         \"\"\"\n\u001b[0;32m--> 619\u001b[0;31m         \u001b[0mparts\u001b[0m \u001b[0;34m=\u001b[0m \u001b[0;34m[\u001b[0m\u001b[0mself\u001b[0m\u001b[0;34m.\u001b[0m\u001b[0mrecv\u001b[0m\u001b[0;34m(\u001b[0m\u001b[0mflags\u001b[0m\u001b[0;34m,\u001b[0m \u001b[0mcopy\u001b[0m\u001b[0;34m=\u001b[0m\u001b[0mcopy\u001b[0m\u001b[0;34m,\u001b[0m \u001b[0mtrack\u001b[0m\u001b[0;34m=\u001b[0m\u001b[0mtrack\u001b[0m\u001b[0;34m)\u001b[0m\u001b[0;34m]\u001b[0m\u001b[0;34m\u001b[0m\u001b[0;34m\u001b[0m\u001b[0m\n\u001b[0m\u001b[1;32m    620\u001b[0m         \u001b[0;31m# have first part already, only loop while more to receive\u001b[0m\u001b[0;34m\u001b[0m\u001b[0;34m\u001b[0m\u001b[0;34m\u001b[0m\u001b[0m\n",
            "\u001b[0;32mzmq/backend/cython/socket.pyx\u001b[0m in \u001b[0;36mzmq.backend.cython.socket.Socket.recv\u001b[0;34m()\u001b[0m\n",
            "\u001b[0;32mzmq/backend/cython/socket.pyx\u001b[0m in \u001b[0;36mzmq.backend.cython.socket.Socket.recv\u001b[0;34m()\u001b[0m\n",
            "\u001b[0;32mzmq/backend/cython/socket.pyx\u001b[0m in \u001b[0;36mzmq.backend.cython.socket._recv_copy\u001b[0;34m()\u001b[0m\n",
            "\u001b[0;32m/usr/local/lib/python3.7/dist-packages/zmq/backend/cython/checkrc.pxd\u001b[0m in \u001b[0;36mzmq.backend.cython.checkrc._check_rc\u001b[0;34m()\u001b[0m\n",
            "\u001b[0;31mKeyboardInterrupt\u001b[0m: ",
            "\nDuring handling of the above exception, another exception occurred:\n",
            "\u001b[0;31mKeyboardInterrupt\u001b[0m                         Traceback (most recent call last)",
            "\u001b[0;32m<ipython-input-6-57801d9e44d0>\u001b[0m in \u001b[0;36m<module>\u001b[0;34m()\u001b[0m\n\u001b[1;32m      5\u001b[0m   \u001b[0mname\u001b[0m\u001b[0;34m[\u001b[0m\u001b[0mi\u001b[0m\u001b[0;34m]\u001b[0m \u001b[0;34m=\u001b[0m \u001b[0minput\u001b[0m\u001b[0;34m(\u001b[0m\u001b[0;34m'Escribe tu nombre: '\u001b[0m\u001b[0;34m)\u001b[0m\u001b[0;34m\u001b[0m\u001b[0;34m\u001b[0m\u001b[0m\n\u001b[1;32m      6\u001b[0m   \u001b[0;32mfor\u001b[0m \u001b[0mi\u001b[0m \u001b[0;32min\u001b[0m \u001b[0mtelephone_number\u001b[0m\u001b[0;34m:\u001b[0m\u001b[0;34m\u001b[0m\u001b[0;34m\u001b[0m\u001b[0m\n\u001b[0;32m----> 7\u001b[0;31m     \u001b[0mtelephone_number\u001b[0m\u001b[0;34m[\u001b[0m\u001b[0mi\u001b[0m\u001b[0;34m]\u001b[0m \u001b[0;34m=\u001b[0m \u001b[0minput\u001b[0m\u001b[0;34m(\u001b[0m\u001b[0;34m'Escribe tu telefono: '\u001b[0m\u001b[0;34m)\u001b[0m\u001b[0;34m\u001b[0m\u001b[0;34m\u001b[0m\u001b[0m\n\u001b[0m\u001b[1;32m      8\u001b[0m \u001b[0;34m\u001b[0m\u001b[0m\n\u001b[1;32m      9\u001b[0m \u001b[0mprint\u001b[0m\u001b[0;34m(\u001b[0m\u001b[0mname\u001b[0m\u001b[0;34m,\u001b[0m \u001b[0mtelephone_number\u001b[0m\u001b[0;34m)\u001b[0m\u001b[0;34m\u001b[0m\u001b[0;34m\u001b[0m\u001b[0m\n",
            "\u001b[0;32m/usr/local/lib/python3.7/dist-packages/ipykernel/kernelbase.py\u001b[0m in \u001b[0;36mraw_input\u001b[0;34m(self, prompt)\u001b[0m\n\u001b[1;32m    702\u001b[0m             \u001b[0mself\u001b[0m\u001b[0;34m.\u001b[0m\u001b[0m_parent_ident\u001b[0m\u001b[0;34m,\u001b[0m\u001b[0;34m\u001b[0m\u001b[0;34m\u001b[0m\u001b[0m\n\u001b[1;32m    703\u001b[0m             \u001b[0mself\u001b[0m\u001b[0;34m.\u001b[0m\u001b[0m_parent_header\u001b[0m\u001b[0;34m,\u001b[0m\u001b[0;34m\u001b[0m\u001b[0;34m\u001b[0m\u001b[0m\n\u001b[0;32m--> 704\u001b[0;31m             \u001b[0mpassword\u001b[0m\u001b[0;34m=\u001b[0m\u001b[0;32mFalse\u001b[0m\u001b[0;34m,\u001b[0m\u001b[0;34m\u001b[0m\u001b[0;34m\u001b[0m\u001b[0m\n\u001b[0m\u001b[1;32m    705\u001b[0m         )\n\u001b[1;32m    706\u001b[0m \u001b[0;34m\u001b[0m\u001b[0m\n",
            "\u001b[0;32m/usr/local/lib/python3.7/dist-packages/ipykernel/kernelbase.py\u001b[0m in \u001b[0;36m_input_request\u001b[0;34m(self, prompt, ident, parent, password)\u001b[0m\n\u001b[1;32m    732\u001b[0m             \u001b[0;32mexcept\u001b[0m \u001b[0mKeyboardInterrupt\u001b[0m\u001b[0;34m:\u001b[0m\u001b[0;34m\u001b[0m\u001b[0;34m\u001b[0m\u001b[0m\n\u001b[1;32m    733\u001b[0m                 \u001b[0;31m# re-raise KeyboardInterrupt, to truncate traceback\u001b[0m\u001b[0;34m\u001b[0m\u001b[0;34m\u001b[0m\u001b[0;34m\u001b[0m\u001b[0m\n\u001b[0;32m--> 734\u001b[0;31m                 \u001b[0;32mraise\u001b[0m \u001b[0mKeyboardInterrupt\u001b[0m\u001b[0;34m\u001b[0m\u001b[0;34m\u001b[0m\u001b[0m\n\u001b[0m\u001b[1;32m    735\u001b[0m             \u001b[0;32melse\u001b[0m\u001b[0;34m:\u001b[0m\u001b[0;34m\u001b[0m\u001b[0;34m\u001b[0m\u001b[0m\n\u001b[1;32m    736\u001b[0m                 \u001b[0;32mbreak\u001b[0m\u001b[0;34m\u001b[0m\u001b[0;34m\u001b[0m\u001b[0m\n",
            "\u001b[0;31mKeyboardInterrupt\u001b[0m: "
          ]
        }
      ]
    },
    {
      "cell_type": "markdown",
      "metadata": {
        "id": "86Q8Wh6aG_Yl"
      },
      "source": [
        "## while"
      ]
    },
    {
      "cell_type": "code",
      "metadata": {
        "id": "n2P6_GSLFmaQ",
        "colab": {
          "base_uri": "https://localhost:8080/"
        },
        "outputId": "6507b373-9651-4791-e5d1-3420a817f9df"
      },
      "source": [
        "i = 0\n",
        "\n",
        "while(i < 6):\n",
        "  print(i)\n",
        "  i += 2"
      ],
      "execution_count": null,
      "outputs": [
        {
          "output_type": "stream",
          "text": [
            "0\n",
            "2\n",
            "4\n"
          ],
          "name": "stdout"
        }
      ]
    },
    {
      "cell_type": "code",
      "metadata": {
        "colab": {
          "base_uri": "https://localhost:8080/"
        },
        "id": "6X7HhbQXnk9k",
        "outputId": "83526de1-8e53-426e-97c8-a2944acf1d6a"
      },
      "source": [
        "i = 0\n",
        "\n",
        "while(i < 60):\n",
        "  print(i)\n",
        "  i += 10"
      ],
      "execution_count": null,
      "outputs": [
        {
          "output_type": "stream",
          "text": [
            "0\n",
            "10\n",
            "20\n",
            "30\n",
            "40\n",
            "50\n"
          ],
          "name": "stdout"
        }
      ]
    },
    {
      "cell_type": "code",
      "metadata": {
        "colab": {
          "base_uri": "https://localhost:8080/"
        },
        "id": "zubOL7mLpgwO",
        "outputId": "96b8a667-0ae4-44e7-d41b-8c5f042678e3"
      },
      "source": [
        "i = 0\n",
        "\n",
        "while(i < 60):\n",
        "  print(i)\n",
        "  i += 10"
      ],
      "execution_count": null,
      "outputs": [
        {
          "output_type": "stream",
          "text": [
            "0\n",
            "10\n",
            "20\n",
            "30\n",
            "40\n",
            "50\n"
          ],
          "name": "stdout"
        }
      ]
    },
    {
      "cell_type": "markdown",
      "metadata": {
        "id": "Mt69JzBuuvZr"
      },
      "source": [
        "## Declaraciones"
      ]
    },
    {
      "cell_type": "code",
      "metadata": {
        "colab": {
          "base_uri": "https://localhost:8080/"
        },
        "id": "LWlxKEFJpoZk",
        "outputId": "6c60ff88-fa78-46e8-b9db-24ff3e4ef89a"
      },
      "source": [
        "x = ['rojo', 'azul', 'amarillo', 'blanco']\n",
        "\n",
        "for i in x:\n",
        "  \n",
        "  if i != 'azul':\n",
        "    break\n",
        "print(i)"
      ],
      "execution_count": null,
      "outputs": [
        {
          "output_type": "stream",
          "text": [
            "rojo\n"
          ],
          "name": "stdout"
        }
      ]
    },
    {
      "cell_type": "code",
      "metadata": {
        "colab": {
          "base_uri": "https://localhost:8080/"
        },
        "id": "KYAMXqhcsgnm",
        "outputId": "3303017a-56a8-43aa-dae7-2f281a2e3c69"
      },
      "source": [
        "x = ['rojo', 'azul', 'amarillo', 'blanco']\n",
        "\n",
        "for i in x:\n",
        "  if i == 'azul':\n",
        "    continue\n",
        "  print(i)"
      ],
      "execution_count": null,
      "outputs": [
        {
          "output_type": "stream",
          "text": [
            "rojo\n",
            "amarillo\n",
            "blanco\n"
          ],
          "name": "stdout"
        }
      ]
    },
    {
      "cell_type": "code",
      "metadata": {
        "colab": {
          "base_uri": "https://localhost:8080/"
        },
        "id": "WXe123e8twqd",
        "outputId": "71e76742-95db-466f-d7d8-e90beb545c75"
      },
      "source": [
        "x = [1,2,3,4,5,6,7,8,9]\n",
        "\n",
        "for i in x:\n",
        "  if i == 5:\n",
        "    continue\n",
        "  print(i)"
      ],
      "execution_count": null,
      "outputs": [
        {
          "output_type": "stream",
          "text": [
            "1\n",
            "2\n",
            "3\n",
            "4\n",
            "6\n",
            "7\n",
            "8\n",
            "9\n"
          ],
          "name": "stdout"
        }
      ]
    },
    {
      "cell_type": "markdown",
      "metadata": {
        "id": "9wGR6Wtiv21R"
      },
      "source": [
        "## Rangos"
      ]
    },
    {
      "cell_type": "code",
      "metadata": {
        "id": "2LZNE-8QBF-a"
      },
      "source": [
        "range(inicio, range, order)"
      ],
      "execution_count": null,
      "outputs": []
    },
    {
      "cell_type": "code",
      "metadata": {
        "colab": {
          "base_uri": "https://localhost:8080/"
        },
        "id": "qSJsWuMCvteh",
        "outputId": "47d1a28f-5d52-4974-9f10-f344987ad12a"
      },
      "source": [
        "for x in range(4,100,3):\n",
        "  print(x)"
      ],
      "execution_count": null,
      "outputs": [
        {
          "output_type": "stream",
          "text": [
            "4\n",
            "7\n",
            "10\n",
            "13\n",
            "16\n",
            "19\n",
            "22\n",
            "25\n",
            "28\n",
            "31\n",
            "34\n",
            "37\n",
            "40\n",
            "43\n",
            "46\n",
            "49\n",
            "52\n",
            "55\n",
            "58\n",
            "61\n",
            "64\n",
            "67\n",
            "70\n",
            "73\n",
            "76\n",
            "79\n",
            "82\n",
            "85\n",
            "88\n",
            "91\n",
            "94\n",
            "97\n"
          ],
          "name": "stdout"
        }
      ]
    },
    {
      "cell_type": "code",
      "metadata": {
        "colab": {
          "base_uri": "https://localhost:8080/"
        },
        "id": "p7gccujsv9fa",
        "outputId": "fb9570ea-ae01-40b7-fe3e-6c1ed24e2502"
      },
      "source": [
        "for x in range(10):\n",
        "    print(x)\n",
        "else:\n",
        "  print('End the list')"
      ],
      "execution_count": null,
      "outputs": [
        {
          "output_type": "stream",
          "text": [
            "0\n",
            "1\n",
            "2\n",
            "3\n",
            "4\n",
            "5\n",
            "6\n",
            "7\n",
            "8\n",
            "9\n",
            "End tje list\n"
          ],
          "name": "stdout"
        }
      ]
    },
    {
      "cell_type": "code",
      "metadata": {
        "colab": {
          "base_uri": "https://localhost:8080/"
        },
        "id": "DW8mPT40BEw0",
        "outputId": "3f96ccb3-54ff-4d46-ae94-05d82d796a78"
      },
      "source": [
        "x = ['os', 'it', 'no', 'ma']\n",
        "y = ['25','7','50','90']\n",
        "\n",
        "for i in x:\n",
        "  for j in y:\n",
        "    print(x,y)\n",
        "  "
      ],
      "execution_count": null,
      "outputs": [
        {
          "output_type": "stream",
          "text": [
            "['os', 'it', 'no', 'ma'] ['25', '7', '50', '90']\n",
            "['os', 'it', 'no', 'ma'] ['25', '7', '50', '90']\n",
            "['os', 'it', 'no', 'ma'] ['25', '7', '50', '90']\n",
            "['os', 'it', 'no', 'ma'] ['25', '7', '50', '90']\n",
            "['os', 'it', 'no', 'ma'] ['25', '7', '50', '90']\n",
            "['os', 'it', 'no', 'ma'] ['25', '7', '50', '90']\n",
            "['os', 'it', 'no', 'ma'] ['25', '7', '50', '90']\n",
            "['os', 'it', 'no', 'ma'] ['25', '7', '50', '90']\n",
            "['os', 'it', 'no', 'ma'] ['25', '7', '50', '90']\n",
            "['os', 'it', 'no', 'ma'] ['25', '7', '50', '90']\n",
            "['os', 'it', 'no', 'ma'] ['25', '7', '50', '90']\n",
            "['os', 'it', 'no', 'ma'] ['25', '7', '50', '90']\n",
            "['os', 'it', 'no', 'ma'] ['25', '7', '50', '90']\n",
            "['os', 'it', 'no', 'ma'] ['25', '7', '50', '90']\n",
            "['os', 'it', 'no', 'ma'] ['25', '7', '50', '90']\n",
            "['os', 'it', 'no', 'ma'] ['25', '7', '50', '90']\n"
          ],
          "name": "stdout"
        }
      ]
    },
    {
      "cell_type": "code",
      "metadata": {
        "colab": {
          "base_uri": "https://localhost:8080/"
        },
        "id": "SYKYFpRsIJP8",
        "outputId": "129572e2-98f5-43c3-c1c9-10e1edf7fafd"
      },
      "source": [
        "x = ['os', 'it', 'no', 'ma']\n",
        "y = ['25','7','50','90']\n",
        "\n",
        "a=0\n",
        "b=0\n",
        "\n",
        "for i in x:\n",
        "  for j in y:\n",
        "#Agregamos el indice\n",
        "    print(x[a],y)\n",
        "    b += 1\n",
        "  a += 1\n",
        "\n",
        "  "
      ],
      "execution_count": null,
      "outputs": [
        {
          "output_type": "stream",
          "text": [
            "os ['25', '7', '50', '90']\n",
            "os ['25', '7', '50', '90']\n",
            "os ['25', '7', '50', '90']\n",
            "os ['25', '7', '50', '90']\n",
            "it ['25', '7', '50', '90']\n",
            "it ['25', '7', '50', '90']\n",
            "it ['25', '7', '50', '90']\n",
            "it ['25', '7', '50', '90']\n",
            "no ['25', '7', '50', '90']\n",
            "no ['25', '7', '50', '90']\n",
            "no ['25', '7', '50', '90']\n",
            "no ['25', '7', '50', '90']\n",
            "ma ['25', '7', '50', '90']\n",
            "ma ['25', '7', '50', '90']\n",
            "ma ['25', '7', '50', '90']\n",
            "ma ['25', '7', '50', '90']\n"
          ],
          "name": "stdout"
        }
      ]
    },
    {
      "cell_type": "code",
      "metadata": {
        "colab": {
          "base_uri": "https://localhost:8080/"
        },
        "id": "yh1OkJSCIp9_",
        "outputId": "e7c9dbec-e8eb-4fd4-8abe-4ddb11fe273d"
      },
      "source": [
        "x = ['os', 'it', 'no', 'ma']\n",
        "y = ['25','7','50','90']\n",
        "\n",
        "#inicio del indice\n",
        "a=0\n",
        "b=0\n",
        "\n",
        "for i in x:\n",
        "  for j in y:\n",
        "#Agregamos el indice\n",
        "    print(x[a],y[a])\n",
        "    b += 1\n",
        "  a += 1"
      ],
      "execution_count": null,
      "outputs": [
        {
          "output_type": "stream",
          "text": [
            "os 25\n",
            "os 25\n",
            "os 25\n",
            "os 25\n",
            "it 7\n",
            "it 7\n",
            "it 7\n",
            "it 7\n",
            "no 50\n",
            "no 50\n",
            "no 50\n",
            "no 50\n",
            "ma 90\n",
            "ma 90\n",
            "ma 90\n",
            "ma 90\n"
          ],
          "name": "stdout"
        }
      ]
    },
    {
      "cell_type": "code",
      "metadata": {
        "colab": {
          "base_uri": "https://localhost:8080/"
        },
        "id": "sajskhD3JFfF",
        "outputId": "78fe6ba5-866e-457a-b061-022e641deb6e"
      },
      "source": [
        "x = ['os', 'it', 'no', 'ma']\n",
        "y = ['25','7','50','90']\n",
        "\n",
        "#inicio del indice\n",
        "a=0\n",
        "b=0\n",
        "\n",
        "for i in x:\n",
        "  for j in y:\n",
        "#Agregamos el indice\n",
        "    print(x[a],y[b])\n",
        "    b += 1\n",
        "  a += 1\n",
        "  b = 0"
      ],
      "execution_count": null,
      "outputs": [
        {
          "output_type": "stream",
          "text": [
            "os 25\n",
            "os 7\n",
            "os 50\n",
            "os 90\n",
            "it 25\n",
            "it 7\n",
            "it 50\n",
            "it 90\n",
            "no 25\n",
            "no 7\n",
            "no 50\n",
            "no 90\n",
            "ma 25\n",
            "ma 7\n",
            "ma 50\n",
            "ma 90\n"
          ],
          "name": "stdout"
        }
      ]
    },
    {
      "cell_type": "markdown",
      "metadata": {
        "id": "K1ZqFLB8ONBZ"
      },
      "source": [
        "# Date\n"
      ]
    },
    {
      "cell_type": "code",
      "metadata": {
        "id": "rSUCXvHfJpaZ"
      },
      "source": [
        "import datetime"
      ],
      "execution_count": 1,
      "outputs": []
    },
    {
      "cell_type": "code",
      "metadata": {
        "id": "m_KI4ZX9O3Eh"
      },
      "source": [
        "x = datetime.datetime.now()"
      ],
      "execution_count": 2,
      "outputs": []
    },
    {
      "cell_type": "code",
      "metadata": {
        "colab": {
          "base_uri": "https://localhost:8080/"
        },
        "id": "uJoq0stcO8ap",
        "outputId": "34152924-5ed7-47a0-ab8b-a46204641637"
      },
      "source": [
        "print(x)"
      ],
      "execution_count": 3,
      "outputs": [
        {
          "output_type": "stream",
          "text": [
            "2021-08-30 00:51:15.989245\n"
          ],
          "name": "stdout"
        }
      ]
    },
    {
      "cell_type": "code",
      "metadata": {
        "colab": {
          "base_uri": "https://localhost:8080/"
        },
        "id": "Fb-lqgMNPB6T",
        "outputId": "9fcc8cab-5e57-4c14-a673-920e6209d2f0"
      },
      "source": [
        "print(x.month)"
      ],
      "execution_count": 4,
      "outputs": [
        {
          "output_type": "stream",
          "text": [
            "8\n"
          ],
          "name": "stdout"
        }
      ]
    },
    {
      "cell_type": "code",
      "metadata": {
        "colab": {
          "base_uri": "https://localhost:8080/"
        },
        "id": "wI2Sf4pjPf9P",
        "outputId": "4fda91b9-f904-4e43-afd3-26f436bc7493"
      },
      "source": [
        "print(x.month, x.day, x.year)"
      ],
      "execution_count": 5,
      "outputs": [
        {
          "output_type": "stream",
          "text": [
            "8 30 2021\n"
          ],
          "name": "stdout"
        }
      ]
    },
    {
      "cell_type": "code",
      "metadata": {
        "id": "7XQRKuVHPzYy"
      },
      "source": [
        "x = datetime.datetime(1996, 4, 3)"
      ],
      "execution_count": 6,
      "outputs": []
    },
    {
      "cell_type": "code",
      "metadata": {
        "colab": {
          "base_uri": "https://localhost:8080/"
        },
        "id": "FrumuK6xQaSq",
        "outputId": "c50eb3c6-84cc-4637-b486-56963b4e497d"
      },
      "source": [
        "print(x)"
      ],
      "execution_count": 7,
      "outputs": [
        {
          "output_type": "stream",
          "text": [
            "1996-04-03 00:00:00\n"
          ],
          "name": "stdout"
        }
      ]
    },
    {
      "cell_type": "markdown",
      "metadata": {
        "id": "zSpzilvyRpkD"
      },
      "source": [
        "## Formato de tiempo en python"
      ]
    },
    {
      "cell_type": "code",
      "metadata": {
        "colab": {
          "base_uri": "https://localhost:8080/"
        },
        "id": "UkbhZPH8QeP-",
        "outputId": "96190144-5bfc-4cfe-c693-c02966f3863f"
      },
      "source": [
        "x = datetime.datetime.now()\n",
        "print(x.strftime('%A'))"
      ],
      "execution_count": 8,
      "outputs": [
        {
          "output_type": "stream",
          "text": [
            "Monday\n"
          ],
          "name": "stdout"
        }
      ]
    },
    {
      "cell_type": "code",
      "metadata": {
        "colab": {
          "base_uri": "https://localhost:8080/"
        },
        "id": "SW4C1RWeR9VD",
        "outputId": "15da03c4-1a3a-4aa1-b3b0-d1d9bf23a46d"
      },
      "source": [
        "x = datetime.datetime.now()\n",
        "print(x.strftime('%a'))"
      ],
      "execution_count": 9,
      "outputs": [
        {
          "output_type": "stream",
          "text": [
            "Mon\n"
          ],
          "name": "stdout"
        }
      ]
    },
    {
      "cell_type": "code",
      "metadata": {
        "colab": {
          "base_uri": "https://localhost:8080/"
        },
        "id": "padFjRGPR_B3",
        "outputId": "0c73cde3-41e0-4c80-fd21-7d40ecf44b3a"
      },
      "source": [
        "x = datetime.datetime.now()\n",
        "print(x.strftime('%b'))"
      ],
      "execution_count": 10,
      "outputs": [
        {
          "output_type": "stream",
          "text": [
            "Aug\n"
          ],
          "name": "stdout"
        }
      ]
    },
    {
      "cell_type": "code",
      "metadata": {
        "colab": {
          "base_uri": "https://localhost:8080/"
        },
        "id": "Ut4lOIKKSDpZ",
        "outputId": "ae9f19ae-382e-493f-ef12-4e87739d64d0"
      },
      "source": [
        "x = datetime.datetime.now()\n",
        "print(x.strftime('%B'))"
      ],
      "execution_count": 11,
      "outputs": [
        {
          "output_type": "stream",
          "text": [
            "August\n"
          ],
          "name": "stdout"
        }
      ]
    },
    {
      "cell_type": "markdown",
      "metadata": {
        "id": "3lzzX-nMSjAv"
      },
      "source": [
        "# Librerias"
      ]
    },
    {
      "cell_type": "code",
      "metadata": {
        "id": "WgocPQavSFLB"
      },
      "source": [
        ""
      ],
      "execution_count": 11,
      "outputs": []
    },
    {
      "cell_type": "code",
      "metadata": {
        "colab": {
          "base_uri": "https://localhost:8080/",
          "height": 128
        },
        "id": "p3px5XYUTLlR",
        "outputId": "d1cd566b-65c7-4581-ea38-9a00a58838f0"
      },
      "source": [
        "file = open('\\Users\\oswal\\Python\\YouTube\\covid19\\POP.txt')"
      ],
      "execution_count": 12,
      "outputs": [
        {
          "output_type": "error",
          "ename": "SyntaxError",
          "evalue": "ignored",
          "traceback": [
            "\u001b[0;36m  File \u001b[0;32m\"<ipython-input-12-0a16be693952>\"\u001b[0;36m, line \u001b[0;32m1\u001b[0m\n\u001b[0;31m    file = open('\\Users\\oswal\\Python\\YouTube\\covid19\\POP.txt')\u001b[0m\n\u001b[0m               ^\u001b[0m\n\u001b[0;31mSyntaxError\u001b[0m\u001b[0;31m:\u001b[0m (unicode error) 'unicodeescape' codec can't decode bytes in position 0-1: truncated \\UXXXXXXXX escape\n"
          ]
        }
      ]
    },
    {
      "cell_type": "markdown",
      "metadata": {
        "id": "bQzs9IkAKuIb"
      },
      "source": [
        "## Modulos"
      ]
    },
    {
      "cell_type": "code",
      "metadata": {
        "id": "t3Noz-46TkZR"
      },
      "source": [
        "def add(c,d):\n",
        "  a = c + d\n",
        "  return a \n",
        "\n",
        "def sub(c,d):\n",
        "  a = c - d\n",
        "  return a\n",
        "  \n",
        "x = [1,2,3]"
      ],
      "execution_count": null,
      "outputs": []
    },
    {
      "cell_type": "code",
      "metadata": {
        "id": "Iv_1DVeYLG-P"
      },
      "source": [
        "add(5,5)"
      ],
      "execution_count": null,
      "outputs": []
    },
    {
      "cell_type": "code",
      "metadata": {
        "id": "7PIE2XVlLXYx"
      },
      "source": [
        "sub(5,8)"
      ],
      "execution_count": null,
      "outputs": []
    },
    {
      "cell_type": "markdown",
      "metadata": {
        "id": "ZTNPSiFwMpQA"
      },
      "source": [
        "## Archivos Json "
      ]
    },
    {
      "cell_type": "code",
      "metadata": {
        "id": "xnaGDdAzLZk7"
      },
      "source": [
        "import json"
      ],
      "execution_count": null,
      "outputs": []
    },
    {
      "cell_type": "code",
      "metadata": {
        "id": "vhJ5sUEUMy8d"
      },
      "source": [
        "x = {'nombre': 'Oswaldo',\n",
        "     'edad': '25',\n",
        "     'trabajo': 'Sales IKEA'}\n",
        "\n",
        "y = json.dumps(x)\n",
        "\n",
        "print(y)"
      ],
      "execution_count": null,
      "outputs": []
    },
    {
      "cell_type": "code",
      "metadata": {
        "id": "bSdzJqvkNUBq"
      },
      "source": [
        "x = {'nombre': 'Oswaldo',\n",
        "     'edad': '25',\n",
        "     'trabajo': 'Sales IKEA'}\n",
        "\n",
        "y = json.loads(x)\n",
        "\n",
        "print(y['nombre'])"
      ],
      "execution_count": null,
      "outputs": []
    },
    {
      "cell_type": "code",
      "metadata": {
        "id": "8nhTNiVDNn_2"
      },
      "source": [
        ""
      ],
      "execution_count": null,
      "outputs": []
    }
  ]
}